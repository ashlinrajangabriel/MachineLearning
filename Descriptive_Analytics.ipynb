{
 "cells": [
  {
   "cell_type": "code",
   "execution_count": 1,
   "metadata": {},
   "outputs": [],
   "source": [
    "%matplotlib inline\n",
    "import numpy as np\n",
    "import pandas as pd\n",
    "import matplotlib.pyplot as plt"
   ]
  },
  {
   "cell_type": "code",
   "execution_count": 5,
   "metadata": {},
   "outputs": [],
   "source": [
    "from ggplot import mtcars"
   ]
  },
  {
   "cell_type": "code",
   "execution_count": null,
   "metadata": {},
   "outputs": [],
   "source": [
    "#    name - Name of the car; \n",
    "# mpg - Miles/(US) gallon; \n",
    "#cyl - Number of cylinders; \n",
    "#disp - Displacement (cu.in.); \n",
    "#hp - Gross horsepower; \n",
    "#drat - Rear axle ratio; \n",
    "#wt - Weight (lb/1000); \n",
    "#qsec - 1/4 mile time; \n",
    "#vs - V/S; \n",
    "#am - transmission (0 = automatic, 1 = manual); \n",
    "#gear - Number of forward gears; \n",
    "#carb - Number of carburetors;"
   ]
  },
  {
   "cell_type": "code",
   "execution_count": 6,
   "metadata": {},
   "outputs": [
    {
     "name": "stdout",
     "output_type": "stream",
     "text": [
      "Index(['name', 'mpg', 'cyl', 'disp', 'hp', 'drat', 'wt', 'qsec', 'vs', 'am',\n",
      "       'gear', 'carb'],\n",
      "      dtype='object')\n"
     ]
    }
   ],
   "source": [
    "print(mtcars.columns)"
   ]
  },
  {
   "cell_type": "code",
   "execution_count": 64,
   "metadata": {},
   "outputs": [
    {
     "name": "stdout",
     "output_type": "stream",
     "text": [
      "Index(['name', 'mpg', 'cyl', 'disp', 'hp', 'drat', 'wt', 'qsec', 'vs', 'am',\n",
      "       'gear', 'carb', 'EngineType'],\n",
      "      dtype='object')\n"
     ]
    }
   ],
   "source": [
    "mtcars.columns\n",
    "header_data = mtcars.columns\n",
    "print(header_data)"
   ]
  },
  {
   "cell_type": "code",
   "execution_count": 76,
   "metadata": {},
   "outputs": [
    {
     "name": "stdout",
     "output_type": "stream",
     "text": [
      "MPG 20.090624999999996\n",
      "CYL 6.1875\n",
      "DISP 230.72187500000004\n",
      "HP 146.6875\n",
      "DRAT 3.5965625000000006\n",
      "WT 3.2172499999999995\n",
      "QSEC 17.848750000000003\n",
      "VS 0.4375\n",
      "AM 0.40625\n",
      "GEAR 3.6875\n",
      "CARB 2.8125\n",
      "Mean value of all features toyotacarolla               name   mpg  cyl  disp  hp  drat     wt  qsec  vs  am  gear  \\\n",
      "19  Toyota Corolla  33.9    4  71.1  65  4.22  1.835  19.9   1   1     4   \n",
      "\n",
      "    carb EngineType  \n",
      "19     1     Manual  \n",
      "Mean value of all features toyotacarolla mpg     33.900\n",
      "cyl      4.000\n",
      "disp    71.100\n",
      "hp      65.000\n",
      "drat     4.220\n",
      "wt       1.835\n",
      "qsec    19.900\n",
      "vs       1.000\n",
      "am       1.000\n",
      "gear     4.000\n",
      "carb     1.000\n",
      "dtype: float64\n"
     ]
    }
   ],
   "source": [
    "print(\"MPG\",mtcars[\"mpg\"].mean())\n",
    "print(\"CYL\",mtcars[\"cyl\"].mean())\n",
    "print(\"DISP\",mtcars[\"disp\"].mean())\n",
    "print(\"HP\",mtcars[\"hp\"].mean())\n",
    "print(\"DRAT\",mtcars[\"drat\"].mean())\n",
    "print(\"WT\",mtcars[\"wt\"].mean())\n",
    "print(\"QSEC\",mtcars[\"qsec\"].mean())\n",
    "print(\"VS\",mtcars[\"vs\"].mean())\n",
    "print(\"AM\",mtcars[\"am\"].mean())\n",
    "print(\"GEAR\",mtcars[\"gear\"].mean())\n",
    "print(\"CARB\",mtcars[\"carb\"].mean())\n",
    "filters = ['Toyota Corolla']\n",
    "print(\"Mean value of all features toyotacarolla\",mtcars.loc[mtcars['name'].isin(filters)])\n",
    "print(\"Mean value of all features toyotacarolla\",mtcars.loc[mtcars['name'].isin(filters)].mean())"
   ]
  },
  {
   "cell_type": "code",
   "execution_count": 79,
   "metadata": {},
   "outputs": [
    {
     "name": "stdout",
     "output_type": "stream",
     "text": [
      "MPG 19.2\n",
      "CYL 6.0\n",
      "DISP 196.3\n",
      "HP 123.0\n",
      "DRAT 3.6950000000000003\n",
      "WT 3.325\n",
      "QSEC 17.71\n",
      "VS 0.0\n",
      "AM 0.0\n",
      "GEAR 4.0\n",
      "CARB 2.0\n",
      "Mean value of all features toyotacarolla               name   mpg  cyl  disp  hp  drat     wt  qsec  vs  am  gear  \\\n",
      "19  Toyota Corolla  33.9    4  71.1  65  4.22  1.835  19.9   1   1     4   \n",
      "\n",
      "    carb EngineType  \n",
      "19     1     Manual  \n",
      "Mean value of all features toyotacarolla mpg     33.900\n",
      "cyl      4.000\n",
      "disp    71.100\n",
      "hp      65.000\n",
      "drat     4.220\n",
      "wt       1.835\n",
      "qsec    19.900\n",
      "vs       1.000\n",
      "am       1.000\n",
      "gear     4.000\n",
      "carb     1.000\n",
      "dtype: float64\n"
     ]
    }
   ],
   "source": [
    "print(\"MPG\",mtcars[\"mpg\"].median())\n",
    "print(\"CYL\",mtcars[\"cyl\"].median())\n",
    "print(\"DISP\",mtcars[\"disp\"].median())\n",
    "print(\"HP\",mtcars[\"hp\"].median())\n",
    "print(\"DRAT\",mtcars[\"drat\"].median())\n",
    "print(\"WT\",mtcars[\"wt\"].median())\n",
    "print(\"QSEC\",mtcars[\"qsec\"].median())\n",
    "print(\"VS\",mtcars[\"vs\"].median())\n",
    "print(\"AM\",mtcars[\"am\"].median())\n",
    "print(\"GEAR\",mtcars[\"gear\"].median())\n",
    "print(\"CARB\",mtcars[\"carb\"].median())\n",
    "filters = ['Toyota Corolla']\n",
    "print(\"Mean value of all features toyotacarolla\",mtcars.loc[mtcars['name'].isin(filters)])\n",
    "print(\"Mean value of all features toyotacarolla\",mtcars.loc[mtcars['name'].isin(filters)].median())"
   ]
  },
  {
   "cell_type": "code",
   "execution_count": 78,
   "metadata": {},
   "outputs": [
    {
     "data": {
      "text/plain": [
       "19    18.814091\n",
       "dtype: float64"
      ]
     },
     "execution_count": 78,
     "metadata": {},
     "output_type": "execute_result"
    }
   ],
   "source": [
    "toyota = mtcars[mtcars['name']=='Toyota Corolla']\n",
    "toyota.mean()\n",
    "toyota.mean(axis=1)"
   ]
  },
  {
   "cell_type": "code",
   "execution_count": 35,
   "metadata": {},
   "outputs": [
    {
     "name": "stdout",
     "output_type": "stream",
     "text": [
      "['Mazda RX4' 'Mazda RX4 Wag' 'Datsun 710' 'Hornet 4 Drive'\n",
      " 'Hornet Sportabout' 'Valiant' 'Duster 360' 'Merc 240D' 'Merc 230'\n",
      " 'Merc 280' 'Merc 280C' 'Merc 450SE' 'Merc 450SL' 'Merc 450SLC'\n",
      " 'Cadillac Fleetwood' 'Lincoln Continental' 'Chrysler Imperial' 'Fiat 128'\n",
      " 'Honda Civic' 'Toyota Corolla' 'Toyota Corona' 'Dodge Challenger'\n",
      " 'AMC Javelin' 'Camaro Z28' 'Pontiac Firebird' 'Fiat X1-9' 'Porsche 914-2'\n",
      " 'Lotus Europa' 'Ford Pantera L' 'Ferrari Dino' 'Maserati Bora'\n",
      " 'Volvo 142E']\n",
      "32\n"
     ]
    }
   ],
   "source": [
    "#Get Names of MTCARS\n",
    "mtcars[\"name\"].unique()\n",
    "cars = mtcars[\"name\"].unique()\n",
    "print(cars)\n",
    "count_of_cars = len(cars)\n",
    "print(count_of_cars)"
   ]
  },
  {
   "cell_type": "code",
   "execution_count": 43,
   "metadata": {},
   "outputs": [
    {
     "name": "stdout",
     "output_type": "stream",
     "text": [
      "0     29.907273\n",
      "1     29.981364\n",
      "2     23.598182\n",
      "3     38.739545\n",
      "4     53.664545\n",
      "5     35.049091\n",
      "6     59.720000\n",
      "7     24.634545\n",
      "8     27.233636\n",
      "9     31.860000\n",
      "10    31.787273\n",
      "11    46.430909\n",
      "12    46.500000\n",
      "13    46.350000\n",
      "14    66.232727\n",
      "15    66.058545\n",
      "16    65.972273\n",
      "17    19.440909\n",
      "18    17.742273\n",
      "19    18.814091\n",
      "20    24.888636\n",
      "21    47.240909\n",
      "22    46.007727\n",
      "23    58.752727\n",
      "24    57.379545\n",
      "25    18.928636\n",
      "26    24.779091\n",
      "27    24.880273\n",
      "28    60.971818\n",
      "29    34.508182\n",
      "30    63.155455\n",
      "31    26.262727\n",
      "dtype: float64\n"
     ]
    }
   ],
   "source": [
    "#carwiseMean approach 1 axis 1 referes to car columns\n",
    "mtcars.mean(axis=1)\n",
    "mtcarsMeanCarWise = mtcars.mean(axis=1)\n",
    "print(mtcarsMeanCarWise)"
   ]
  },
  {
   "cell_type": "code",
   "execution_count": 41,
   "metadata": {},
   "outputs": [
    {
     "name": "stdout",
     "output_type": "stream",
     "text": [
      "Mazda RX4 \t 29.907272727272723\n",
      "Mazda RX4 Wag \t 29.981363636363632\n",
      "Datsun 710 \t 23.598181818181818\n",
      "Hornet 4 Drive \t 38.73954545454545\n",
      "Hornet Sportabout \t 53.66454545454546\n",
      "Valiant \t 35.04909090909091\n",
      "Duster 360 \t 59.720000000000006\n",
      "Merc 240D \t 24.634545454545457\n",
      "Merc 230 \t 27.233636363636364\n",
      "Merc 280 \t 31.86\n",
      "Merc 280C \t 31.787272727272725\n",
      "Merc 450SE \t 46.43090909090909\n",
      "Merc 450SL \t 46.50000000000001\n",
      "Merc 450SLC \t 46.349999999999994\n",
      "Cadillac Fleetwood \t 66.23272727272727\n",
      "Lincoln Continental \t 66.05854545454545\n",
      "Chrysler Imperial \t 65.97227272727274\n",
      "Fiat 128 \t 19.44090909090909\n",
      "Honda Civic \t 17.74227272727273\n",
      "Toyota Corolla \t 18.81409090909091\n",
      "Toyota Corona \t 24.888636363636362\n",
      "Dodge Challenger \t 47.24090909090909\n",
      "AMC Javelin \t 46.00772727272727\n",
      "Camaro Z28 \t 58.75272727272727\n",
      "Pontiac Firebird \t 57.37954545454546\n",
      "Fiat X1-9 \t 18.928636363636368\n",
      "Porsche 914-2 \t 24.779090909090908\n",
      "Lotus Europa \t 24.880272727272725\n",
      "Ford Pantera L \t 60.97181818181818\n",
      "Ferrari Dino \t 34.50818181818182\n",
      "Maserati Bora \t 63.155454545454546\n",
      "Volvo 142E \t 26.262727272727272\n"
     ]
    }
   ],
   "source": [
    "#carwiseMean approach 2\n",
    "for i in range(32):\n",
    "    mtcarsMeanCarWise2=mtcars.iloc[i,1:]\n",
    "    print(mtcars.iloc[i,0],\"\\t\",mtcarsMeanCarWise2.mean())"
   ]
  },
  {
   "cell_type": "code",
   "execution_count": 44,
   "metadata": {},
   "outputs": [
    {
     "name": "stdout",
     "output_type": "stream",
     "text": [
      "0     4.000\n",
      "1     4.000\n",
      "2     4.000\n",
      "3     3.215\n",
      "4     3.440\n",
      "5     3.460\n",
      "6     4.000\n",
      "7     4.000\n",
      "8     4.000\n",
      "9     4.000\n",
      "10    4.000\n",
      "11    4.070\n",
      "12    3.730\n",
      "13    3.780\n",
      "14    5.250\n",
      "15    5.424\n",
      "16    5.345\n",
      "17    4.000\n",
      "18    4.000\n",
      "19    4.000\n",
      "20    3.700\n",
      "21    3.520\n",
      "22    3.435\n",
      "23    4.000\n",
      "24    3.845\n",
      "25    4.000\n",
      "26    4.430\n",
      "27    4.000\n",
      "28    5.000\n",
      "29    6.000\n",
      "30    8.000\n",
      "31    4.000\n",
      "dtype: float64\n"
     ]
    }
   ],
   "source": [
    "#Get the median of each columns\n",
    "#carwiseMean approach 1 axis 1 referes to car columns\n",
    "mtcars.median(axis=1)\n",
    "medianCarsFeatures = mtcars.median(axis=1)\n",
    "print(medianCarsFeatures)"
   ]
  },
  {
   "cell_type": "code",
   "execution_count": 47,
   "metadata": {},
   "outputs": [
    {
     "data": {
      "text/plain": [
       "array([[<matplotlib.axes._subplots.AxesSubplot object at 0x7f9e03c86128>,\n",
       "        <matplotlib.axes._subplots.AxesSubplot object at 0x7f9e03e83c88>,\n",
       "        <matplotlib.axes._subplots.AxesSubplot object at 0x7f9e03b66e10>],\n",
       "       [<matplotlib.axes._subplots.AxesSubplot object at 0x7f9e03b19400>,\n",
       "        <matplotlib.axes._subplots.AxesSubplot object at 0x7f9e03b4a940>,\n",
       "        <matplotlib.axes._subplots.AxesSubplot object at 0x7f9e03afcef0>],\n",
       "       [<matplotlib.axes._subplots.AxesSubplot object at 0x7f9e03ab84e0>,\n",
       "        <matplotlib.axes._subplots.AxesSubplot object at 0x7f9e03a6aa90>,\n",
       "        <matplotlib.axes._subplots.AxesSubplot object at 0x7f9e03a6aac8>],\n",
       "       [<matplotlib.axes._subplots.AxesSubplot object at 0x7f9e039d95f8>,\n",
       "        <matplotlib.axes._subplots.AxesSubplot object at 0x7f9e03a09ba8>,\n",
       "        <matplotlib.axes._subplots.AxesSubplot object at 0x7f9e039c8198>]],\n",
       "      dtype=object)"
      ]
     },
     "execution_count": 47,
     "metadata": {},
     "output_type": "execute_result"
    },
    {
     "data": {
      "image/png": "[encoded data removed]",
      "text/plain": [
       "<Figure size 432x288 with 12 Axes>"
      ]
     },
     "metadata": {
      "needs_background": "light"
     },
     "output_type": "display_data"
    }
   ],
   "source": [
    "mtcars.hist( bins=20)"
   ]
  },
  {
   "cell_type": "code",
   "execution_count": 84,
   "metadata": {},
   "outputs": [
    {
     "data": {
      "text/plain": [
       "<matplotlib.image.AxesImage at 0x7fa909e326d8>"
      ]
     },
     "execution_count": 84,
     "metadata": {},
     "output_type": "execute_result"
    },
    {
     "data": {
      "image/png": "[encoded data removed]",
      "text/plain": [
       "<Figure size 288x288 with 1 Axes>"
      ]
     },
     "metadata": {
      "needs_background": "light"
     },
     "output_type": "display_data"
    }
   ],
   "source": [
    "import matplotlib.pyplot as plty\n",
    "plty.matshow(mtcars.corr())"
   ]
  },
  {
   "cell_type": "code",
   "execution_count": 85,
   "metadata": {},
   "outputs": [
    {
     "data": {
      "text/html": [
       "<style  type=\"text/css\" >\n",
       "    #T_bd3d6d6a_fdac_11ea_bfc8_4b9ae99dcd30row0_col0 {\n",
       "            background-color:  #b40426;\n",
       "            color:  #f1f1f1;\n",
       "        }    #T_bd3d6d6a_fdac_11ea_bfc8_4b9ae99dcd30row0_col1 {\n",
       "            background-color:  #3b4cc0;\n",
       "            color:  #f1f1f1;\n",
       "        }    #T_bd3d6d6a_fdac_11ea_bfc8_4b9ae99dcd30row0_col2 {\n",
       "            background-color:  #3b4cc0;\n",
       "            color:  #f1f1f1;\n",
       "        }    #T_bd3d6d6a_fdac_11ea_bfc8_4b9ae99dcd30row0_col3 {\n",
       "            background-color:  #3b4cc0;\n",
       "            color:  #f1f1f1;\n",
       "        }    #T_bd3d6d6a_fdac_11ea_bfc8_4b9ae99dcd30row0_col4 {\n",
       "            background-color:  #eb7d62;\n",
       "            color:  #000000;\n",
       "        }    #T_bd3d6d6a_fdac_11ea_bfc8_4b9ae99dcd30row0_col5 {\n",
       "            background-color:  #3b4cc0;\n",
       "            color:  #f1f1f1;\n",
       "        }    #T_bd3d6d6a_fdac_11ea_bfc8_4b9ae99dcd30row0_col6 {\n",
       "            background-color:  #f7ba9f;\n",
       "            color:  #000000;\n",
       "        }    #T_bd3d6d6a_fdac_11ea_bfc8_4b9ae99dcd30row0_col7 {\n",
       "            background-color:  #eb7d62;\n",
       "            color:  #000000;\n",
       "        }    #T_bd3d6d6a_fdac_11ea_bfc8_4b9ae99dcd30row0_col8 {\n",
       "            background-color:  #f39475;\n",
       "            color:  #000000;\n",
       "        }    #T_bd3d6d6a_fdac_11ea_bfc8_4b9ae99dcd30row0_col9 {\n",
       "            background-color:  #f7b79b;\n",
       "            color:  #000000;\n",
       "        }    #T_bd3d6d6a_fdac_11ea_bfc8_4b9ae99dcd30row0_col10 {\n",
       "            background-color:  #4e68d8;\n",
       "            color:  #000000;\n",
       "        }    #T_bd3d6d6a_fdac_11ea_bfc8_4b9ae99dcd30row1_col0 {\n",
       "            background-color:  #3d50c3;\n",
       "            color:  #f1f1f1;\n",
       "        }    #T_bd3d6d6a_fdac_11ea_bfc8_4b9ae99dcd30row1_col1 {\n",
       "            background-color:  #b40426;\n",
       "            color:  #f1f1f1;\n",
       "        }    #T_bd3d6d6a_fdac_11ea_bfc8_4b9ae99dcd30row1_col2 {\n",
       "            background-color:  #c73635;\n",
       "            color:  #f1f1f1;\n",
       "        }    #T_bd3d6d6a_fdac_11ea_bfc8_4b9ae99dcd30row1_col3 {\n",
       "            background-color:  #d55042;\n",
       "            color:  #000000;\n",
       "        }    #T_bd3d6d6a_fdac_11ea_bfc8_4b9ae99dcd30row1_col4 {\n",
       "            background-color:  #3c4ec2;\n",
       "            color:  #f1f1f1;\n",
       "        }    #T_bd3d6d6a_fdac_11ea_bfc8_4b9ae99dcd30row1_col5 {\n",
       "            background-color:  #da5a49;\n",
       "            color:  #000000;\n",
       "        }    #T_bd3d6d6a_fdac_11ea_bfc8_4b9ae99dcd30row1_col6 {\n",
       "            background-color:  #4f69d9;\n",
       "            color:  #000000;\n",
       "        }    #T_bd3d6d6a_fdac_11ea_bfc8_4b9ae99dcd30row1_col7 {\n",
       "            background-color:  #3b4cc0;\n",
       "            color:  #f1f1f1;\n",
       "        }    #T_bd3d6d6a_fdac_11ea_bfc8_4b9ae99dcd30row1_col8 {\n",
       "            background-color:  #5977e3;\n",
       "            color:  #000000;\n",
       "        }    #T_bd3d6d6a_fdac_11ea_bfc8_4b9ae99dcd30row1_col9 {\n",
       "            background-color:  #4b64d5;\n",
       "            color:  #f1f1f1;\n",
       "        }    #T_bd3d6d6a_fdac_11ea_bfc8_4b9ae99dcd30row1_col10 {\n",
       "            background-color:  #f7a889;\n",
       "            color:  #000000;\n",
       "        }    #T_bd3d6d6a_fdac_11ea_bfc8_4b9ae99dcd30row2_col0 {\n",
       "            background-color:  #3d50c3;\n",
       "            color:  #f1f1f1;\n",
       "        }    #T_bd3d6d6a_fdac_11ea_bfc8_4b9ae99dcd30row2_col1 {\n",
       "            background-color:  #c73635;\n",
       "            color:  #f1f1f1;\n",
       "        }    #T_bd3d6d6a_fdac_11ea_bfc8_4b9ae99dcd30row2_col2 {\n",
       "            background-color:  #b40426;\n",
       "            color:  #f1f1f1;\n",
       "        }    #T_bd3d6d6a_fdac_11ea_bfc8_4b9ae99dcd30row2_col3 {\n",
       "            background-color:  #dc5d4a;\n",
       "            color:  #000000;\n",
       "        }    #T_bd3d6d6a_fdac_11ea_bfc8_4b9ae99dcd30row2_col4 {\n",
       "            background-color:  #3b4cc0;\n",
       "            color:  #f1f1f1;\n",
       "        }    #T_bd3d6d6a_fdac_11ea_bfc8_4b9ae99dcd30row2_col5 {\n",
       "            background-color:  #ca3b37;\n",
       "            color:  #f1f1f1;\n",
       "        }    #T_bd3d6d6a_fdac_11ea_bfc8_4b9ae99dcd30row2_col6 {\n",
       "            background-color:  #6e90f2;\n",
       "            color:  #000000;\n",
       "        }    #T_bd3d6d6a_fdac_11ea_bfc8_4b9ae99dcd30row2_col7 {\n",
       "            background-color:  #4b64d5;\n",
       "            color:  #f1f1f1;\n",
       "        }    #T_bd3d6d6a_fdac_11ea_bfc8_4b9ae99dcd30row2_col8 {\n",
       "            background-color:  #4c66d6;\n",
       "            color:  #000000;\n",
       "        }    #T_bd3d6d6a_fdac_11ea_bfc8_4b9ae99dcd30row2_col9 {\n",
       "            background-color:  #3f53c6;\n",
       "            color:  #f1f1f1;\n",
       "        }    #T_bd3d6d6a_fdac_11ea_bfc8_4b9ae99dcd30row2_col10 {\n",
       "            background-color:  #f5c1a9;\n",
       "            color:  #000000;\n",
       "        }    #T_bd3d6d6a_fdac_11ea_bfc8_4b9ae99dcd30row3_col0 {\n",
       "            background-color:  #4961d2;\n",
       "            color:  #f1f1f1;\n",
       "        }    #T_bd3d6d6a_fdac_11ea_bfc8_4b9ae99dcd30row3_col1 {\n",
       "            background-color:  #d44e41;\n",
       "            color:  #000000;\n",
       "        }    #T_bd3d6d6a_fdac_11ea_bfc8_4b9ae99dcd30row3_col2 {\n",
       "            background-color:  #d95847;\n",
       "            color:  #000000;\n",
       "        }    #T_bd3d6d6a_fdac_11ea_bfc8_4b9ae99dcd30row3_col3 {\n",
       "            background-color:  #b40426;\n",
       "            color:  #f1f1f1;\n",
       "        }    #T_bd3d6d6a_fdac_11ea_bfc8_4b9ae99dcd30row3_col4 {\n",
       "            background-color:  #6b8df0;\n",
       "            color:  #000000;\n",
       "        }    #T_bd3d6d6a_fdac_11ea_bfc8_4b9ae99dcd30row3_col5 {\n",
       "            background-color:  #ea7b60;\n",
       "            color:  #000000;\n",
       "        }    #T_bd3d6d6a_fdac_11ea_bfc8_4b9ae99dcd30row3_col6 {\n",
       "            background-color:  #3b4cc0;\n",
       "            color:  #f1f1f1;\n",
       "        }    #T_bd3d6d6a_fdac_11ea_bfc8_4b9ae99dcd30row3_col7 {\n",
       "            background-color:  #4961d2;\n",
       "            color:  #f1f1f1;\n",
       "        }    #T_bd3d6d6a_fdac_11ea_bfc8_4b9ae99dcd30row3_col8 {\n",
       "            background-color:  #92b4fe;\n",
       "            color:  #000000;\n",
       "        }    #T_bd3d6d6a_fdac_11ea_bfc8_4b9ae99dcd30row3_col9 {\n",
       "            background-color:  #9abbff;\n",
       "            color:  #000000;\n",
       "        }    #T_bd3d6d6a_fdac_11ea_bfc8_4b9ae99dcd30row3_col10 {\n",
       "            background-color:  #e36c55;\n",
       "            color:  #000000;\n",
       "        }    #T_bd3d6d6a_fdac_11ea_bfc8_4b9ae99dcd30row4_col0 {\n",
       "            background-color:  #e8765c;\n",
       "            color:  #000000;\n",
       "        }    #T_bd3d6d6a_fdac_11ea_bfc8_4b9ae99dcd30row4_col1 {\n",
       "            background-color:  #5470de;\n",
       "            color:  #000000;\n",
       "        }    #T_bd3d6d6a_fdac_11ea_bfc8_4b9ae99dcd30row4_col2 {\n",
       "            background-color:  #516ddb;\n",
       "            color:  #000000;\n",
       "        }    #T_bd3d6d6a_fdac_11ea_bfc8_4b9ae99dcd30row4_col3 {\n",
       "            background-color:  #7699f6;\n",
       "            color:  #000000;\n",
       "        }    #T_bd3d6d6a_fdac_11ea_bfc8_4b9ae99dcd30row4_col4 {\n",
       "            background-color:  #b40426;\n",
       "            color:  #f1f1f1;\n",
       "        }    #T_bd3d6d6a_fdac_11ea_bfc8_4b9ae99dcd30row4_col5 {\n",
       "            background-color:  #5470de;\n",
       "            color:  #000000;\n",
       "        }    #T_bd3d6d6a_fdac_11ea_bfc8_4b9ae99dcd30row4_col6 {\n",
       "            background-color:  #d4dbe6;\n",
       "            color:  #000000;\n",
       "        }    #T_bd3d6d6a_fdac_11ea_bfc8_4b9ae99dcd30row4_col7 {\n",
       "            background-color:  #f7b093;\n",
       "            color:  #000000;\n",
       "        }    #T_bd3d6d6a_fdac_11ea_bfc8_4b9ae99dcd30row4_col8 {\n",
       "            background-color:  #e8765c;\n",
       "            color:  #000000;\n",
       "        }    #T_bd3d6d6a_fdac_11ea_bfc8_4b9ae99dcd30row4_col9 {\n",
       "            background-color:  #ec7f63;\n",
       "            color:  #000000;\n",
       "        }    #T_bd3d6d6a_fdac_11ea_bfc8_4b9ae99dcd30row4_col10 {\n",
       "            background-color:  #adc9fd;\n",
       "            color:  #000000;\n",
       "        }    #T_bd3d6d6a_fdac_11ea_bfc8_4b9ae99dcd30row5_col0 {\n",
       "            background-color:  #3b4cc0;\n",
       "            color:  #f1f1f1;\n",
       "        }    #T_bd3d6d6a_fdac_11ea_bfc8_4b9ae99dcd30row5_col1 {\n",
       "            background-color:  #dc5d4a;\n",
       "            color:  #000000;\n",
       "        }    #T_bd3d6d6a_fdac_11ea_bfc8_4b9ae99dcd30row5_col2 {\n",
       "            background-color:  #ca3b37;\n",
       "            color:  #f1f1f1;\n",
       "        }    #T_bd3d6d6a_fdac_11ea_bfc8_4b9ae99dcd30row5_col3 {\n",
       "            background-color:  #ec8165;\n",
       "            color:  #000000;\n",
       "        }    #T_bd3d6d6a_fdac_11ea_bfc8_4b9ae99dcd30row5_col4 {\n",
       "            background-color:  #3b4cc0;\n",
       "            color:  #f1f1f1;\n",
       "        }    #T_bd3d6d6a_fdac_11ea_bfc8_4b9ae99dcd30row5_col5 {\n",
       "            background-color:  #b40426;\n",
       "            color:  #f1f1f1;\n",
       "        }    #T_bd3d6d6a_fdac_11ea_bfc8_4b9ae99dcd30row5_col6 {\n",
       "            background-color:  #a2c1ff;\n",
       "            color:  #000000;\n",
       "        }    #T_bd3d6d6a_fdac_11ea_bfc8_4b9ae99dcd30row5_col7 {\n",
       "            background-color:  #6788ee;\n",
       "            color:  #000000;\n",
       "        }    #T_bd3d6d6a_fdac_11ea_bfc8_4b9ae99dcd30row5_col8 {\n",
       "            background-color:  #3b4cc0;\n",
       "            color:  #f1f1f1;\n",
       "        }    #T_bd3d6d6a_fdac_11ea_bfc8_4b9ae99dcd30row5_col9 {\n",
       "            background-color:  #3b4cc0;\n",
       "            color:  #f1f1f1;\n",
       "        }    #T_bd3d6d6a_fdac_11ea_bfc8_4b9ae99dcd30row5_col10 {\n",
       "            background-color:  #f7bca1;\n",
       "            color:  #000000;\n",
       "        }    #T_bd3d6d6a_fdac_11ea_bfc8_4b9ae99dcd30row6_col0 {\n",
       "            background-color:  #f7b093;\n",
       "            color:  #000000;\n",
       "        }    #T_bd3d6d6a_fdac_11ea_bfc8_4b9ae99dcd30row6_col1 {\n",
       "            background-color:  #6788ee;\n",
       "            color:  #000000;\n",
       "        }    #T_bd3d6d6a_fdac_11ea_bfc8_4b9ae99dcd30row6_col2 {\n",
       "            background-color:  #84a7fc;\n",
       "            color:  #000000;\n",
       "        }    #T_bd3d6d6a_fdac_11ea_bfc8_4b9ae99dcd30row6_col3 {\n",
       "            background-color:  #455cce;\n",
       "            color:  #f1f1f1;\n",
       "        }    #T_bd3d6d6a_fdac_11ea_bfc8_4b9ae99dcd30row6_col4 {\n",
       "            background-color:  #d5dbe5;\n",
       "            color:  #000000;\n",
       "        }    #T_bd3d6d6a_fdac_11ea_bfc8_4b9ae99dcd30row6_col5 {\n",
       "            background-color:  #b6cefa;\n",
       "            color:  #000000;\n",
       "        }    #T_bd3d6d6a_fdac_11ea_bfc8_4b9ae99dcd30row6_col6 {\n",
       "            background-color:  #b40426;\n",
       "            color:  #f1f1f1;\n",
       "        }    #T_bd3d6d6a_fdac_11ea_bfc8_4b9ae99dcd30row6_col7 {\n",
       "            background-color:  #e26952;\n",
       "            color:  #000000;\n",
       "        }    #T_bd3d6d6a_fdac_11ea_bfc8_4b9ae99dcd30row6_col8 {\n",
       "            background-color:  #94b6ff;\n",
       "            color:  #000000;\n",
       "        }    #T_bd3d6d6a_fdac_11ea_bfc8_4b9ae99dcd30row6_col9 {\n",
       "            background-color:  #86a9fc;\n",
       "            color:  #000000;\n",
       "        }    #T_bd3d6d6a_fdac_11ea_bfc8_4b9ae99dcd30row6_col10 {\n",
       "            background-color:  #3b4cc0;\n",
       "            color:  #f1f1f1;\n",
       "        }    #T_bd3d6d6a_fdac_11ea_bfc8_4b9ae99dcd30row7_col0 {\n",
       "            background-color:  #ea7b60;\n",
       "            color:  #000000;\n",
       "        }    #T_bd3d6d6a_fdac_11ea_bfc8_4b9ae99dcd30row7_col1 {\n",
       "            background-color:  #4055c8;\n",
       "            color:  #f1f1f1;\n",
       "        }    #T_bd3d6d6a_fdac_11ea_bfc8_4b9ae99dcd30row7_col2 {\n",
       "            background-color:  #516ddb;\n",
       "            color:  #000000;\n",
       "        }    #T_bd3d6d6a_fdac_11ea_bfc8_4b9ae99dcd30row7_col3 {\n",
       "            background-color:  #4358cb;\n",
       "            color:  #f1f1f1;\n",
       "        }    #T_bd3d6d6a_fdac_11ea_bfc8_4b9ae99dcd30row7_col4 {\n",
       "            background-color:  #f7b599;\n",
       "            color:  #000000;\n",
       "        }    #T_bd3d6d6a_fdac_11ea_bfc8_4b9ae99dcd30row7_col5 {\n",
       "            background-color:  #6f92f3;\n",
       "            color:  #000000;\n",
       "        }    #T_bd3d6d6a_fdac_11ea_bfc8_4b9ae99dcd30row7_col6 {\n",
       "            background-color:  #e36c55;\n",
       "            color:  #000000;\n",
       "        }    #T_bd3d6d6a_fdac_11ea_bfc8_4b9ae99dcd30row7_col7 {\n",
       "            background-color:  #b40426;\n",
       "            color:  #f1f1f1;\n",
       "        }    #T_bd3d6d6a_fdac_11ea_bfc8_4b9ae99dcd30row7_col8 {\n",
       "            background-color:  #dfdbd9;\n",
       "            color:  #000000;\n",
       "        }    #T_bd3d6d6a_fdac_11ea_bfc8_4b9ae99dcd30row7_col9 {\n",
       "            background-color:  #dcdddd;\n",
       "            color:  #000000;\n",
       "        }    #T_bd3d6d6a_fdac_11ea_bfc8_4b9ae99dcd30row7_col10 {\n",
       "            background-color:  #4a63d3;\n",
       "            color:  #f1f1f1;\n",
       "        }    #T_bd3d6d6a_fdac_11ea_bfc8_4b9ae99dcd30row8_col0 {\n",
       "            background-color:  #f08a6c;\n",
       "            color:  #000000;\n",
       "        }    #T_bd3d6d6a_fdac_11ea_bfc8_4b9ae99dcd30row8_col1 {\n",
       "            background-color:  #7396f5;\n",
       "            color:  #000000;\n",
       "        }    #T_bd3d6d6a_fdac_11ea_bfc8_4b9ae99dcd30row8_col2 {\n",
       "            background-color:  #6687ed;\n",
       "            color:  #000000;\n",
       "        }    #T_bd3d6d6a_fdac_11ea_bfc8_4b9ae99dcd30row8_col3 {\n",
       "            background-color:  #9ebeff;\n",
       "            color:  #000000;\n",
       "        }    #T_bd3d6d6a_fdac_11ea_bfc8_4b9ae99dcd30row8_col4 {\n",
       "            background-color:  #e7745b;\n",
       "            color:  #000000;\n",
       "        }    #T_bd3d6d6a_fdac_11ea_bfc8_4b9ae99dcd30row8_col5 {\n",
       "            background-color:  #5875e1;\n",
       "            color:  #000000;\n",
       "        }    #T_bd3d6d6a_fdac_11ea_bfc8_4b9ae99dcd30row8_col6 {\n",
       "            background-color:  #97b8ff;\n",
       "            color:  #000000;\n",
       "        }    #T_bd3d6d6a_fdac_11ea_bfc8_4b9ae99dcd30row8_col7 {\n",
       "            background-color:  #e7d7ce;\n",
       "            color:  #000000;\n",
       "        }    #T_bd3d6d6a_fdac_11ea_bfc8_4b9ae99dcd30row8_col8 {\n",
       "            background-color:  #b40426;\n",
       "            color:  #f1f1f1;\n",
       "        }    #T_bd3d6d6a_fdac_11ea_bfc8_4b9ae99dcd30row8_col9 {\n",
       "            background-color:  #df634e;\n",
       "            color:  #000000;\n",
       "        }    #T_bd3d6d6a_fdac_11ea_bfc8_4b9ae99dcd30row8_col10 {\n",
       "            background-color:  #cad8ef;\n",
       "            color:  #000000;\n",
       "        }    #T_bd3d6d6a_fdac_11ea_bfc8_4b9ae99dcd30row9_col0 {\n",
       "            background-color:  #f6a586;\n",
       "            color:  #000000;\n",
       "        }    #T_bd3d6d6a_fdac_11ea_bfc8_4b9ae99dcd30row9_col1 {\n",
       "            background-color:  #799cf8;\n",
       "            color:  #000000;\n",
       "        }    #T_bd3d6d6a_fdac_11ea_bfc8_4b9ae99dcd30row9_col2 {\n",
       "            background-color:  #6c8ff1;\n",
       "            color:  #000000;\n",
       "        }    #T_bd3d6d6a_fdac_11ea_bfc8_4b9ae99dcd30row9_col3 {\n",
       "            background-color:  #b5cdfa;\n",
       "            color:  #000000;\n",
       "        }    #T_bd3d6d6a_fdac_11ea_bfc8_4b9ae99dcd30row9_col4 {\n",
       "            background-color:  #e9785d;\n",
       "            color:  #000000;\n",
       "        }    #T_bd3d6d6a_fdac_11ea_bfc8_4b9ae99dcd30row9_col5 {\n",
       "            background-color:  #6a8bef;\n",
       "            color:  #000000;\n",
       "        }    #T_bd3d6d6a_fdac_11ea_bfc8_4b9ae99dcd30row9_col6 {\n",
       "            background-color:  #9bbcff;\n",
       "            color:  #000000;\n",
       "        }    #T_bd3d6d6a_fdac_11ea_bfc8_4b9ae99dcd30row9_col7 {\n",
       "            background-color:  #ebd3c6;\n",
       "            color:  #000000;\n",
       "        }    #T_bd3d6d6a_fdac_11ea_bfc8_4b9ae99dcd30row9_col8 {\n",
       "            background-color:  #dd5f4b;\n",
       "            color:  #000000;\n",
       "        }    #T_bd3d6d6a_fdac_11ea_bfc8_4b9ae99dcd30row9_col9 {\n",
       "            background-color:  #b40426;\n",
       "            color:  #f1f1f1;\n",
       "        }    #T_bd3d6d6a_fdac_11ea_bfc8_4b9ae99dcd30row9_col10 {\n",
       "            background-color:  #ebd3c6;\n",
       "            color:  #000000;\n",
       "        }    #T_bd3d6d6a_fdac_11ea_bfc8_4b9ae99dcd30row10_col0 {\n",
       "            background-color:  #7093f3;\n",
       "            color:  #000000;\n",
       "        }    #T_bd3d6d6a_fdac_11ea_bfc8_4b9ae99dcd30row10_col1 {\n",
       "            background-color:  #f59c7d;\n",
       "            color:  #000000;\n",
       "        }    #T_bd3d6d6a_fdac_11ea_bfc8_4b9ae99dcd30row10_col2 {\n",
       "            background-color:  #f7b599;\n",
       "            color:  #000000;\n",
       "        }    #T_bd3d6d6a_fdac_11ea_bfc8_4b9ae99dcd30row10_col3 {\n",
       "            background-color:  #e26952;\n",
       "            color:  #000000;\n",
       "        }    #T_bd3d6d6a_fdac_11ea_bfc8_4b9ae99dcd30row10_col4 {\n",
       "            background-color:  #b3cdfb;\n",
       "            color:  #000000;\n",
       "        }    #T_bd3d6d6a_fdac_11ea_bfc8_4b9ae99dcd30row10_col5 {\n",
       "            background-color:  #f7af91;\n",
       "            color:  #000000;\n",
       "        }    #T_bd3d6d6a_fdac_11ea_bfc8_4b9ae99dcd30row10_col6 {\n",
       "            background-color:  #4358cb;\n",
       "            color:  #f1f1f1;\n",
       "        }    #T_bd3d6d6a_fdac_11ea_bfc8_4b9ae99dcd30row10_col7 {\n",
       "            background-color:  #6485ec;\n",
       "            color:  #000000;\n",
       "        }    #T_bd3d6d6a_fdac_11ea_bfc8_4b9ae99dcd30row10_col8 {\n",
       "            background-color:  #cdd9ec;\n",
       "            color:  #000000;\n",
       "        }    #T_bd3d6d6a_fdac_11ea_bfc8_4b9ae99dcd30row10_col9 {\n",
       "            background-color:  #e7d7ce;\n",
       "            color:  #000000;\n",
       "        }    #T_bd3d6d6a_fdac_11ea_bfc8_4b9ae99dcd30row10_col10 {\n",
       "            background-color:  #b40426;\n",
       "            color:  #f1f1f1;\n",
       "        }</style><table id=\"T_bd3d6d6a_fdac_11ea_bfc8_4b9ae99dcd30\" ><thead>    <tr>        <th class=\"blank level0\" ></th>        <th class=\"col_heading level0 col0\" >mpg</th>        <th class=\"col_heading level0 col1\" >cyl</th>        <th class=\"col_heading level0 col2\" >disp</th>        <th class=\"col_heading level0 col3\" >hp</th>        <th class=\"col_heading level0 col4\" >drat</th>        <th class=\"col_heading level0 col5\" >wt</th>        <th class=\"col_heading level0 col6\" >qsec</th>        <th class=\"col_heading level0 col7\" >vs</th>        <th class=\"col_heading level0 col8\" >am</th>        <th class=\"col_heading level0 col9\" >gear</th>        <th class=\"col_heading level0 col10\" >carb</th>    </tr></thead><tbody>\n",
       "                <tr>\n",
       "                        <th id=\"T_bd3d6d6a_fdac_11ea_bfc8_4b9ae99dcd30level0_row0\" class=\"row_heading level0 row0\" >mpg</th>\n",
       "                        <td id=\"T_bd3d6d6a_fdac_11ea_bfc8_4b9ae99dcd30row0_col0\" class=\"data row0 col0\" >1</td>\n",
       "                        <td id=\"T_bd3d6d6a_fdac_11ea_bfc8_4b9ae99dcd30row0_col1\" class=\"data row0 col1\" >-0.852162</td>\n",
       "                        <td id=\"T_bd3d6d6a_fdac_11ea_bfc8_4b9ae99dcd30row0_col2\" class=\"data row0 col2\" >-0.847551</td>\n",
       "                        <td id=\"T_bd3d6d6a_fdac_11ea_bfc8_4b9ae99dcd30row0_col3\" class=\"data row0 col3\" >-0.776168</td>\n",
       "                        <td id=\"T_bd3d6d6a_fdac_11ea_bfc8_4b9ae99dcd30row0_col4\" class=\"data row0 col4\" >0.681172</td>\n",
       "                        <td id=\"T_bd3d6d6a_fdac_11ea_bfc8_4b9ae99dcd30row0_col5\" class=\"data row0 col5\" >-0.867659</td>\n",
       "                        <td id=\"T_bd3d6d6a_fdac_11ea_bfc8_4b9ae99dcd30row0_col6\" class=\"data row0 col6\" >0.418684</td>\n",
       "                        <td id=\"T_bd3d6d6a_fdac_11ea_bfc8_4b9ae99dcd30row0_col7\" class=\"data row0 col7\" >0.664039</td>\n",
       "                        <td id=\"T_bd3d6d6a_fdac_11ea_bfc8_4b9ae99dcd30row0_col8\" class=\"data row0 col8\" >0.599832</td>\n",
       "                        <td id=\"T_bd3d6d6a_fdac_11ea_bfc8_4b9ae99dcd30row0_col9\" class=\"data row0 col9\" >0.480285</td>\n",
       "                        <td id=\"T_bd3d6d6a_fdac_11ea_bfc8_4b9ae99dcd30row0_col10\" class=\"data row0 col10\" >-0.550925</td>\n",
       "            </tr>\n",
       "            <tr>\n",
       "                        <th id=\"T_bd3d6d6a_fdac_11ea_bfc8_4b9ae99dcd30level0_row1\" class=\"row_heading level0 row1\" >cyl</th>\n",
       "                        <td id=\"T_bd3d6d6a_fdac_11ea_bfc8_4b9ae99dcd30row1_col0\" class=\"data row1 col0\" >-0.852162</td>\n",
       "                        <td id=\"T_bd3d6d6a_fdac_11ea_bfc8_4b9ae99dcd30row1_col1\" class=\"data row1 col1\" >1</td>\n",
       "                        <td id=\"T_bd3d6d6a_fdac_11ea_bfc8_4b9ae99dcd30row1_col2\" class=\"data row1 col2\" >0.902033</td>\n",
       "                        <td id=\"T_bd3d6d6a_fdac_11ea_bfc8_4b9ae99dcd30row1_col3\" class=\"data row1 col3\" >0.832447</td>\n",
       "                        <td id=\"T_bd3d6d6a_fdac_11ea_bfc8_4b9ae99dcd30row1_col4\" class=\"data row1 col4\" >-0.699938</td>\n",
       "                        <td id=\"T_bd3d6d6a_fdac_11ea_bfc8_4b9ae99dcd30row1_col5\" class=\"data row1 col5\" >0.782496</td>\n",
       "                        <td id=\"T_bd3d6d6a_fdac_11ea_bfc8_4b9ae99dcd30row1_col6\" class=\"data row1 col6\" >-0.591242</td>\n",
       "                        <td id=\"T_bd3d6d6a_fdac_11ea_bfc8_4b9ae99dcd30row1_col7\" class=\"data row1 col7\" >-0.810812</td>\n",
       "                        <td id=\"T_bd3d6d6a_fdac_11ea_bfc8_4b9ae99dcd30row1_col8\" class=\"data row1 col8\" >-0.522607</td>\n",
       "                        <td id=\"T_bd3d6d6a_fdac_11ea_bfc8_4b9ae99dcd30row1_col9\" class=\"data row1 col9\" >-0.492687</td>\n",
       "                        <td id=\"T_bd3d6d6a_fdac_11ea_bfc8_4b9ae99dcd30row1_col10\" class=\"data row1 col10\" >0.526988</td>\n",
       "            </tr>\n",
       "            <tr>\n",
       "                        <th id=\"T_bd3d6d6a_fdac_11ea_bfc8_4b9ae99dcd30level0_row2\" class=\"row_heading level0 row2\" >disp</th>\n",
       "                        <td id=\"T_bd3d6d6a_fdac_11ea_bfc8_4b9ae99dcd30row2_col0\" class=\"data row2 col0\" >-0.847551</td>\n",
       "                        <td id=\"T_bd3d6d6a_fdac_11ea_bfc8_4b9ae99dcd30row2_col1\" class=\"data row2 col1\" >0.902033</td>\n",
       "                        <td id=\"T_bd3d6d6a_fdac_11ea_bfc8_4b9ae99dcd30row2_col2\" class=\"data row2 col2\" >1</td>\n",
       "                        <td id=\"T_bd3d6d6a_fdac_11ea_bfc8_4b9ae99dcd30row2_col3\" class=\"data row2 col3\" >0.790949</td>\n",
       "                        <td id=\"T_bd3d6d6a_fdac_11ea_bfc8_4b9ae99dcd30row2_col4\" class=\"data row2 col4\" >-0.710214</td>\n",
       "                        <td id=\"T_bd3d6d6a_fdac_11ea_bfc8_4b9ae99dcd30row2_col5\" class=\"data row2 col5\" >0.88798</td>\n",
       "                        <td id=\"T_bd3d6d6a_fdac_11ea_bfc8_4b9ae99dcd30row2_col6\" class=\"data row2 col6\" >-0.433698</td>\n",
       "                        <td id=\"T_bd3d6d6a_fdac_11ea_bfc8_4b9ae99dcd30row2_col7\" class=\"data row2 col7\" >-0.710416</td>\n",
       "                        <td id=\"T_bd3d6d6a_fdac_11ea_bfc8_4b9ae99dcd30row2_col8\" class=\"data row2 col8\" >-0.591227</td>\n",
       "                        <td id=\"T_bd3d6d6a_fdac_11ea_bfc8_4b9ae99dcd30row2_col9\" class=\"data row2 col9\" >-0.555569</td>\n",
       "                        <td id=\"T_bd3d6d6a_fdac_11ea_bfc8_4b9ae99dcd30row2_col10\" class=\"data row2 col10\" >0.394977</td>\n",
       "            </tr>\n",
       "            <tr>\n",
       "                        <th id=\"T_bd3d6d6a_fdac_11ea_bfc8_4b9ae99dcd30level0_row3\" class=\"row_heading level0 row3\" >hp</th>\n",
       "                        <td id=\"T_bd3d6d6a_fdac_11ea_bfc8_4b9ae99dcd30row3_col0\" class=\"data row3 col0\" >-0.776168</td>\n",
       "                        <td id=\"T_bd3d6d6a_fdac_11ea_bfc8_4b9ae99dcd30row3_col1\" class=\"data row3 col1\" >0.832447</td>\n",
       "                        <td id=\"T_bd3d6d6a_fdac_11ea_bfc8_4b9ae99dcd30row3_col2\" class=\"data row3 col2\" >0.790949</td>\n",
       "                        <td id=\"T_bd3d6d6a_fdac_11ea_bfc8_4b9ae99dcd30row3_col3\" class=\"data row3 col3\" >1</td>\n",
       "                        <td id=\"T_bd3d6d6a_fdac_11ea_bfc8_4b9ae99dcd30row3_col4\" class=\"data row3 col4\" >-0.448759</td>\n",
       "                        <td id=\"T_bd3d6d6a_fdac_11ea_bfc8_4b9ae99dcd30row3_col5\" class=\"data row3 col5\" >0.658748</td>\n",
       "                        <td id=\"T_bd3d6d6a_fdac_11ea_bfc8_4b9ae99dcd30row3_col6\" class=\"data row3 col6\" >-0.708223</td>\n",
       "                        <td id=\"T_bd3d6d6a_fdac_11ea_bfc8_4b9ae99dcd30row3_col7\" class=\"data row3 col7\" >-0.723097</td>\n",
       "                        <td id=\"T_bd3d6d6a_fdac_11ea_bfc8_4b9ae99dcd30row3_col8\" class=\"data row3 col8\" >-0.243204</td>\n",
       "                        <td id=\"T_bd3d6d6a_fdac_11ea_bfc8_4b9ae99dcd30row3_col9\" class=\"data row3 col9\" >-0.125704</td>\n",
       "                        <td id=\"T_bd3d6d6a_fdac_11ea_bfc8_4b9ae99dcd30row3_col10\" class=\"data row3 col10\" >0.749812</td>\n",
       "            </tr>\n",
       "            <tr>\n",
       "                        <th id=\"T_bd3d6d6a_fdac_11ea_bfc8_4b9ae99dcd30level0_row4\" class=\"row_heading level0 row4\" >drat</th>\n",
       "                        <td id=\"T_bd3d6d6a_fdac_11ea_bfc8_4b9ae99dcd30row4_col0\" class=\"data row4 col0\" >0.681172</td>\n",
       "                        <td id=\"T_bd3d6d6a_fdac_11ea_bfc8_4b9ae99dcd30row4_col1\" class=\"data row4 col1\" >-0.699938</td>\n",
       "                        <td id=\"T_bd3d6d6a_fdac_11ea_bfc8_4b9ae99dcd30row4_col2\" class=\"data row4 col2\" >-0.710214</td>\n",
       "                        <td id=\"T_bd3d6d6a_fdac_11ea_bfc8_4b9ae99dcd30row4_col3\" class=\"data row4 col3\" >-0.448759</td>\n",
       "                        <td id=\"T_bd3d6d6a_fdac_11ea_bfc8_4b9ae99dcd30row4_col4\" class=\"data row4 col4\" >1</td>\n",
       "                        <td id=\"T_bd3d6d6a_fdac_11ea_bfc8_4b9ae99dcd30row4_col5\" class=\"data row4 col5\" >-0.712441</td>\n",
       "                        <td id=\"T_bd3d6d6a_fdac_11ea_bfc8_4b9ae99dcd30row4_col6\" class=\"data row4 col6\" >0.0912048</td>\n",
       "                        <td id=\"T_bd3d6d6a_fdac_11ea_bfc8_4b9ae99dcd30row4_col7\" class=\"data row4 col7\" >0.440278</td>\n",
       "                        <td id=\"T_bd3d6d6a_fdac_11ea_bfc8_4b9ae99dcd30row4_col8\" class=\"data row4 col8\" >0.712711</td>\n",
       "                        <td id=\"T_bd3d6d6a_fdac_11ea_bfc8_4b9ae99dcd30row4_col9\" class=\"data row4 col9\" >0.69961</td>\n",
       "                        <td id=\"T_bd3d6d6a_fdac_11ea_bfc8_4b9ae99dcd30row4_col10\" class=\"data row4 col10\" >-0.0907898</td>\n",
       "            </tr>\n",
       "            <tr>\n",
       "                        <th id=\"T_bd3d6d6a_fdac_11ea_bfc8_4b9ae99dcd30level0_row5\" class=\"row_heading level0 row5\" >wt</th>\n",
       "                        <td id=\"T_bd3d6d6a_fdac_11ea_bfc8_4b9ae99dcd30row5_col0\" class=\"data row5 col0\" >-0.867659</td>\n",
       "                        <td id=\"T_bd3d6d6a_fdac_11ea_bfc8_4b9ae99dcd30row5_col1\" class=\"data row5 col1\" >0.782496</td>\n",
       "                        <td id=\"T_bd3d6d6a_fdac_11ea_bfc8_4b9ae99dcd30row5_col2\" class=\"data row5 col2\" >0.88798</td>\n",
       "                        <td id=\"T_bd3d6d6a_fdac_11ea_bfc8_4b9ae99dcd30row5_col3\" class=\"data row5 col3\" >0.658748</td>\n",
       "                        <td id=\"T_bd3d6d6a_fdac_11ea_bfc8_4b9ae99dcd30row5_col4\" class=\"data row5 col4\" >-0.712441</td>\n",
       "                        <td id=\"T_bd3d6d6a_fdac_11ea_bfc8_4b9ae99dcd30row5_col5\" class=\"data row5 col5\" >1</td>\n",
       "                        <td id=\"T_bd3d6d6a_fdac_11ea_bfc8_4b9ae99dcd30row5_col6\" class=\"data row5 col6\" >-0.174716</td>\n",
       "                        <td id=\"T_bd3d6d6a_fdac_11ea_bfc8_4b9ae99dcd30row5_col7\" class=\"data row5 col7\" >-0.554916</td>\n",
       "                        <td id=\"T_bd3d6d6a_fdac_11ea_bfc8_4b9ae99dcd30row5_col8\" class=\"data row5 col8\" >-0.692495</td>\n",
       "                        <td id=\"T_bd3d6d6a_fdac_11ea_bfc8_4b9ae99dcd30row5_col9\" class=\"data row5 col9\" >-0.583287</td>\n",
       "                        <td id=\"T_bd3d6d6a_fdac_11ea_bfc8_4b9ae99dcd30row5_col10\" class=\"data row5 col10\" >0.427606</td>\n",
       "            </tr>\n",
       "            <tr>\n",
       "                        <th id=\"T_bd3d6d6a_fdac_11ea_bfc8_4b9ae99dcd30level0_row6\" class=\"row_heading level0 row6\" >qsec</th>\n",
       "                        <td id=\"T_bd3d6d6a_fdac_11ea_bfc8_4b9ae99dcd30row6_col0\" class=\"data row6 col0\" >0.418684</td>\n",
       "                        <td id=\"T_bd3d6d6a_fdac_11ea_bfc8_4b9ae99dcd30row6_col1\" class=\"data row6 col1\" >-0.591242</td>\n",
       "                        <td id=\"T_bd3d6d6a_fdac_11ea_bfc8_4b9ae99dcd30row6_col2\" class=\"data row6 col2\" >-0.433698</td>\n",
       "                        <td id=\"T_bd3d6d6a_fdac_11ea_bfc8_4b9ae99dcd30row6_col3\" class=\"data row6 col3\" >-0.708223</td>\n",
       "                        <td id=\"T_bd3d6d6a_fdac_11ea_bfc8_4b9ae99dcd30row6_col4\" class=\"data row6 col4\" >0.0912048</td>\n",
       "                        <td id=\"T_bd3d6d6a_fdac_11ea_bfc8_4b9ae99dcd30row6_col5\" class=\"data row6 col5\" >-0.174716</td>\n",
       "                        <td id=\"T_bd3d6d6a_fdac_11ea_bfc8_4b9ae99dcd30row6_col6\" class=\"data row6 col6\" >1</td>\n",
       "                        <td id=\"T_bd3d6d6a_fdac_11ea_bfc8_4b9ae99dcd30row6_col7\" class=\"data row6 col7\" >0.744535</td>\n",
       "                        <td id=\"T_bd3d6d6a_fdac_11ea_bfc8_4b9ae99dcd30row6_col8\" class=\"data row6 col8\" >-0.229861</td>\n",
       "                        <td id=\"T_bd3d6d6a_fdac_11ea_bfc8_4b9ae99dcd30row6_col9\" class=\"data row6 col9\" >-0.212682</td>\n",
       "                        <td id=\"T_bd3d6d6a_fdac_11ea_bfc8_4b9ae99dcd30row6_col10\" class=\"data row6 col10\" >-0.656249</td>\n",
       "            </tr>\n",
       "            <tr>\n",
       "                        <th id=\"T_bd3d6d6a_fdac_11ea_bfc8_4b9ae99dcd30level0_row7\" class=\"row_heading level0 row7\" >vs</th>\n",
       "                        <td id=\"T_bd3d6d6a_fdac_11ea_bfc8_4b9ae99dcd30row7_col0\" class=\"data row7 col0\" >0.664039</td>\n",
       "                        <td id=\"T_bd3d6d6a_fdac_11ea_bfc8_4b9ae99dcd30row7_col1\" class=\"data row7 col1\" >-0.810812</td>\n",
       "                        <td id=\"T_bd3d6d6a_fdac_11ea_bfc8_4b9ae99dcd30row7_col2\" class=\"data row7 col2\" >-0.710416</td>\n",
       "                        <td id=\"T_bd3d6d6a_fdac_11ea_bfc8_4b9ae99dcd30row7_col3\" class=\"data row7 col3\" >-0.723097</td>\n",
       "                        <td id=\"T_bd3d6d6a_fdac_11ea_bfc8_4b9ae99dcd30row7_col4\" class=\"data row7 col4\" >0.440278</td>\n",
       "                        <td id=\"T_bd3d6d6a_fdac_11ea_bfc8_4b9ae99dcd30row7_col5\" class=\"data row7 col5\" >-0.554916</td>\n",
       "                        <td id=\"T_bd3d6d6a_fdac_11ea_bfc8_4b9ae99dcd30row7_col6\" class=\"data row7 col6\" >0.744535</td>\n",
       "                        <td id=\"T_bd3d6d6a_fdac_11ea_bfc8_4b9ae99dcd30row7_col7\" class=\"data row7 col7\" >1</td>\n",
       "                        <td id=\"T_bd3d6d6a_fdac_11ea_bfc8_4b9ae99dcd30row7_col8\" class=\"data row7 col8\" >0.168345</td>\n",
       "                        <td id=\"T_bd3d6d6a_fdac_11ea_bfc8_4b9ae99dcd30row7_col9\" class=\"data row7 col9\" >0.206023</td>\n",
       "                        <td id=\"T_bd3d6d6a_fdac_11ea_bfc8_4b9ae99dcd30row7_col10\" class=\"data row7 col10\" >-0.569607</td>\n",
       "            </tr>\n",
       "            <tr>\n",
       "                        <th id=\"T_bd3d6d6a_fdac_11ea_bfc8_4b9ae99dcd30level0_row8\" class=\"row_heading level0 row8\" >am</th>\n",
       "                        <td id=\"T_bd3d6d6a_fdac_11ea_bfc8_4b9ae99dcd30row8_col0\" class=\"data row8 col0\" >0.599832</td>\n",
       "                        <td id=\"T_bd3d6d6a_fdac_11ea_bfc8_4b9ae99dcd30row8_col1\" class=\"data row8 col1\" >-0.522607</td>\n",
       "                        <td id=\"T_bd3d6d6a_fdac_11ea_bfc8_4b9ae99dcd30row8_col2\" class=\"data row8 col2\" >-0.591227</td>\n",
       "                        <td id=\"T_bd3d6d6a_fdac_11ea_bfc8_4b9ae99dcd30row8_col3\" class=\"data row8 col3\" >-0.243204</td>\n",
       "                        <td id=\"T_bd3d6d6a_fdac_11ea_bfc8_4b9ae99dcd30row8_col4\" class=\"data row8 col4\" >0.712711</td>\n",
       "                        <td id=\"T_bd3d6d6a_fdac_11ea_bfc8_4b9ae99dcd30row8_col5\" class=\"data row8 col5\" >-0.692495</td>\n",
       "                        <td id=\"T_bd3d6d6a_fdac_11ea_bfc8_4b9ae99dcd30row8_col6\" class=\"data row8 col6\" >-0.229861</td>\n",
       "                        <td id=\"T_bd3d6d6a_fdac_11ea_bfc8_4b9ae99dcd30row8_col7\" class=\"data row8 col7\" >0.168345</td>\n",
       "                        <td id=\"T_bd3d6d6a_fdac_11ea_bfc8_4b9ae99dcd30row8_col8\" class=\"data row8 col8\" >1</td>\n",
       "                        <td id=\"T_bd3d6d6a_fdac_11ea_bfc8_4b9ae99dcd30row8_col9\" class=\"data row8 col9\" >0.794059</td>\n",
       "                        <td id=\"T_bd3d6d6a_fdac_11ea_bfc8_4b9ae99dcd30row8_col10\" class=\"data row8 col10\" >0.0575344</td>\n",
       "            </tr>\n",
       "            <tr>\n",
       "                        <th id=\"T_bd3d6d6a_fdac_11ea_bfc8_4b9ae99dcd30level0_row9\" class=\"row_heading level0 row9\" >gear</th>\n",
       "                        <td id=\"T_bd3d6d6a_fdac_11ea_bfc8_4b9ae99dcd30row9_col0\" class=\"data row9 col0\" >0.480285</td>\n",
       "                        <td id=\"T_bd3d6d6a_fdac_11ea_bfc8_4b9ae99dcd30row9_col1\" class=\"data row9 col1\" >-0.492687</td>\n",
       "                        <td id=\"T_bd3d6d6a_fdac_11ea_bfc8_4b9ae99dcd30row9_col2\" class=\"data row9 col2\" >-0.555569</td>\n",
       "                        <td id=\"T_bd3d6d6a_fdac_11ea_bfc8_4b9ae99dcd30row9_col3\" class=\"data row9 col3\" >-0.125704</td>\n",
       "                        <td id=\"T_bd3d6d6a_fdac_11ea_bfc8_4b9ae99dcd30row9_col4\" class=\"data row9 col4\" >0.69961</td>\n",
       "                        <td id=\"T_bd3d6d6a_fdac_11ea_bfc8_4b9ae99dcd30row9_col5\" class=\"data row9 col5\" >-0.583287</td>\n",
       "                        <td id=\"T_bd3d6d6a_fdac_11ea_bfc8_4b9ae99dcd30row9_col6\" class=\"data row9 col6\" >-0.212682</td>\n",
       "                        <td id=\"T_bd3d6d6a_fdac_11ea_bfc8_4b9ae99dcd30row9_col7\" class=\"data row9 col7\" >0.206023</td>\n",
       "                        <td id=\"T_bd3d6d6a_fdac_11ea_bfc8_4b9ae99dcd30row9_col8\" class=\"data row9 col8\" >0.794059</td>\n",
       "                        <td id=\"T_bd3d6d6a_fdac_11ea_bfc8_4b9ae99dcd30row9_col9\" class=\"data row9 col9\" >1</td>\n",
       "                        <td id=\"T_bd3d6d6a_fdac_11ea_bfc8_4b9ae99dcd30row9_col10\" class=\"data row9 col10\" >0.274073</td>\n",
       "            </tr>\n",
       "            <tr>\n",
       "                        <th id=\"T_bd3d6d6a_fdac_11ea_bfc8_4b9ae99dcd30level0_row10\" class=\"row_heading level0 row10\" >carb</th>\n",
       "                        <td id=\"T_bd3d6d6a_fdac_11ea_bfc8_4b9ae99dcd30row10_col0\" class=\"data row10 col0\" >-0.550925</td>\n",
       "                        <td id=\"T_bd3d6d6a_fdac_11ea_bfc8_4b9ae99dcd30row10_col1\" class=\"data row10 col1\" >0.526988</td>\n",
       "                        <td id=\"T_bd3d6d6a_fdac_11ea_bfc8_4b9ae99dcd30row10_col2\" class=\"data row10 col2\" >0.394977</td>\n",
       "                        <td id=\"T_bd3d6d6a_fdac_11ea_bfc8_4b9ae99dcd30row10_col3\" class=\"data row10 col3\" >0.749812</td>\n",
       "                        <td id=\"T_bd3d6d6a_fdac_11ea_bfc8_4b9ae99dcd30row10_col4\" class=\"data row10 col4\" >-0.0907898</td>\n",
       "                        <td id=\"T_bd3d6d6a_fdac_11ea_bfc8_4b9ae99dcd30row10_col5\" class=\"data row10 col5\" >0.427606</td>\n",
       "                        <td id=\"T_bd3d6d6a_fdac_11ea_bfc8_4b9ae99dcd30row10_col6\" class=\"data row10 col6\" >-0.656249</td>\n",
       "                        <td id=\"T_bd3d6d6a_fdac_11ea_bfc8_4b9ae99dcd30row10_col7\" class=\"data row10 col7\" >-0.569607</td>\n",
       "                        <td id=\"T_bd3d6d6a_fdac_11ea_bfc8_4b9ae99dcd30row10_col8\" class=\"data row10 col8\" >0.0575344</td>\n",
       "                        <td id=\"T_bd3d6d6a_fdac_11ea_bfc8_4b9ae99dcd30row10_col9\" class=\"data row10 col9\" >0.274073</td>\n",
       "                        <td id=\"T_bd3d6d6a_fdac_11ea_bfc8_4b9ae99dcd30row10_col10\" class=\"data row10 col10\" >1</td>\n",
       "            </tr>\n",
       "    </tbody></table>"
      ],
      "text/plain": [
       "<pandas.io.formats.style.Styler at 0x7fa909f38b70>"
      ]
     },
     "execution_count": 85,
     "metadata": {},
     "output_type": "execute_result"
    }
   ],
   "source": [
    "corr = mtcars.corr()\n",
    "corr.style.background_gradient(cmap='coolwarm')"
   ]
  },
  {
   "cell_type": "code",
   "execution_count": 86,
   "metadata": {},
   "outputs": [
    {
     "data": {
      "text/html": [
       "<div>\n",
       "<style scoped>\n",
       "    .dataframe tbody tr th:only-of-type {\n",
       "        vertical-align: middle;\n",
       "    }\n",
       "\n",
       "    .dataframe tbody tr th {\n",
       "        vertical-align: top;\n",
       "    }\n",
       "\n",
       "    .dataframe thead th {\n",
       "        text-align: right;\n",
       "    }\n",
       "</style>\n",
       "<table border=\"1\" class=\"dataframe\">\n",
       "  <thead>\n",
       "    <tr style=\"text-align: right;\">\n",
       "      <th></th>\n",
       "      <th>mpg</th>\n",
       "      <th>cyl</th>\n",
       "      <th>disp</th>\n",
       "      <th>hp</th>\n",
       "      <th>drat</th>\n",
       "      <th>wt</th>\n",
       "      <th>qsec</th>\n",
       "      <th>vs</th>\n",
       "      <th>am</th>\n",
       "      <th>gear</th>\n",
       "      <th>carb</th>\n",
       "    </tr>\n",
       "  </thead>\n",
       "  <tbody>\n",
       "    <tr>\n",
       "      <td>mpg</td>\n",
       "      <td>1.000000</td>\n",
       "      <td>-0.852162</td>\n",
       "      <td>-0.847551</td>\n",
       "      <td>-0.776168</td>\n",
       "      <td>0.681172</td>\n",
       "      <td>-0.867659</td>\n",
       "      <td>0.418684</td>\n",
       "      <td>0.664039</td>\n",
       "      <td>0.599832</td>\n",
       "      <td>0.480285</td>\n",
       "      <td>-0.550925</td>\n",
       "    </tr>\n",
       "    <tr>\n",
       "      <td>cyl</td>\n",
       "      <td>-0.852162</td>\n",
       "      <td>1.000000</td>\n",
       "      <td>0.902033</td>\n",
       "      <td>0.832447</td>\n",
       "      <td>-0.699938</td>\n",
       "      <td>0.782496</td>\n",
       "      <td>-0.591242</td>\n",
       "      <td>-0.810812</td>\n",
       "      <td>-0.522607</td>\n",
       "      <td>-0.492687</td>\n",
       "      <td>0.526988</td>\n",
       "    </tr>\n",
       "    <tr>\n",
       "      <td>disp</td>\n",
       "      <td>-0.847551</td>\n",
       "      <td>0.902033</td>\n",
       "      <td>1.000000</td>\n",
       "      <td>0.790949</td>\n",
       "      <td>-0.710214</td>\n",
       "      <td>0.887980</td>\n",
       "      <td>-0.433698</td>\n",
       "      <td>-0.710416</td>\n",
       "      <td>-0.591227</td>\n",
       "      <td>-0.555569</td>\n",
       "      <td>0.394977</td>\n",
       "    </tr>\n",
       "    <tr>\n",
       "      <td>hp</td>\n",
       "      <td>-0.776168</td>\n",
       "      <td>0.832447</td>\n",
       "      <td>0.790949</td>\n",
       "      <td>1.000000</td>\n",
       "      <td>-0.448759</td>\n",
       "      <td>0.658748</td>\n",
       "      <td>-0.708223</td>\n",
       "      <td>-0.723097</td>\n",
       "      <td>-0.243204</td>\n",
       "      <td>-0.125704</td>\n",
       "      <td>0.749812</td>\n",
       "    </tr>\n",
       "    <tr>\n",
       "      <td>drat</td>\n",
       "      <td>0.681172</td>\n",
       "      <td>-0.699938</td>\n",
       "      <td>-0.710214</td>\n",
       "      <td>-0.448759</td>\n",
       "      <td>1.000000</td>\n",
       "      <td>-0.712441</td>\n",
       "      <td>0.091205</td>\n",
       "      <td>0.440278</td>\n",
       "      <td>0.712711</td>\n",
       "      <td>0.699610</td>\n",
       "      <td>-0.090790</td>\n",
       "    </tr>\n",
       "    <tr>\n",
       "      <td>wt</td>\n",
       "      <td>-0.867659</td>\n",
       "      <td>0.782496</td>\n",
       "      <td>0.887980</td>\n",
       "      <td>0.658748</td>\n",
       "      <td>-0.712441</td>\n",
       "      <td>1.000000</td>\n",
       "      <td>-0.174716</td>\n",
       "      <td>-0.554916</td>\n",
       "      <td>-0.692495</td>\n",
       "      <td>-0.583287</td>\n",
       "      <td>0.427606</td>\n",
       "    </tr>\n",
       "    <tr>\n",
       "      <td>qsec</td>\n",
       "      <td>0.418684</td>\n",
       "      <td>-0.591242</td>\n",
       "      <td>-0.433698</td>\n",
       "      <td>-0.708223</td>\n",
       "      <td>0.091205</td>\n",
       "      <td>-0.174716</td>\n",
       "      <td>1.000000</td>\n",
       "      <td>0.744535</td>\n",
       "      <td>-0.229861</td>\n",
       "      <td>-0.212682</td>\n",
       "      <td>-0.656249</td>\n",
       "    </tr>\n",
       "    <tr>\n",
       "      <td>vs</td>\n",
       "      <td>0.664039</td>\n",
       "      <td>-0.810812</td>\n",
       "      <td>-0.710416</td>\n",
       "      <td>-0.723097</td>\n",
       "      <td>0.440278</td>\n",
       "      <td>-0.554916</td>\n",
       "      <td>0.744535</td>\n",
       "      <td>1.000000</td>\n",
       "      <td>0.168345</td>\n",
       "      <td>0.206023</td>\n",
       "      <td>-0.569607</td>\n",
       "    </tr>\n",
       "    <tr>\n",
       "      <td>am</td>\n",
       "      <td>0.599832</td>\n",
       "      <td>-0.522607</td>\n",
       "      <td>-0.591227</td>\n",
       "      <td>-0.243204</td>\n",
       "      <td>0.712711</td>\n",
       "      <td>-0.692495</td>\n",
       "      <td>-0.229861</td>\n",
       "      <td>0.168345</td>\n",
       "      <td>1.000000</td>\n",
       "      <td>0.794059</td>\n",
       "      <td>0.057534</td>\n",
       "    </tr>\n",
       "    <tr>\n",
       "      <td>gear</td>\n",
       "      <td>0.480285</td>\n",
       "      <td>-0.492687</td>\n",
       "      <td>-0.555569</td>\n",
       "      <td>-0.125704</td>\n",
       "      <td>0.699610</td>\n",
       "      <td>-0.583287</td>\n",
       "      <td>-0.212682</td>\n",
       "      <td>0.206023</td>\n",
       "      <td>0.794059</td>\n",
       "      <td>1.000000</td>\n",
       "      <td>0.274073</td>\n",
       "    </tr>\n",
       "    <tr>\n",
       "      <td>carb</td>\n",
       "      <td>-0.550925</td>\n",
       "      <td>0.526988</td>\n",
       "      <td>0.394977</td>\n",
       "      <td>0.749812</td>\n",
       "      <td>-0.090790</td>\n",
       "      <td>0.427606</td>\n",
       "      <td>-0.656249</td>\n",
       "      <td>-0.569607</td>\n",
       "      <td>0.057534</td>\n",
       "      <td>0.274073</td>\n",
       "      <td>1.000000</td>\n",
       "    </tr>\n",
       "  </tbody>\n",
       "</table>\n",
       "</div>"
      ],
      "text/plain": [
       "           mpg       cyl      disp        hp      drat        wt      qsec  \\\n",
       "mpg   1.000000 -0.852162 -0.847551 -0.776168  0.681172 -0.867659  0.418684   \n",
       "cyl  -0.852162  1.000000  0.902033  0.832447 -0.699938  0.782496 -0.591242   \n",
       "disp -0.847551  0.902033  1.000000  0.790949 -0.710214  0.887980 -0.433698   \n",
       "hp   -0.776168  0.832447  0.790949  1.000000 -0.448759  0.658748 -0.708223   \n",
       "drat  0.681172 -0.699938 -0.710214 -0.448759  1.000000 -0.712441  0.091205   \n",
       "wt   -0.867659  0.782496  0.887980  0.658748 -0.712441  1.000000 -0.174716   \n",
       "qsec  0.418684 -0.591242 -0.433698 -0.708223  0.091205 -0.174716  1.000000   \n",
       "vs    0.664039 -0.810812 -0.710416 -0.723097  0.440278 -0.554916  0.744535   \n",
       "am    0.599832 -0.522607 -0.591227 -0.243204  0.712711 -0.692495 -0.229861   \n",
       "gear  0.480285 -0.492687 -0.555569 -0.125704  0.699610 -0.583287 -0.212682   \n",
       "carb -0.550925  0.526988  0.394977  0.749812 -0.090790  0.427606 -0.656249   \n",
       "\n",
       "            vs        am      gear      carb  \n",
       "mpg   0.664039  0.599832  0.480285 -0.550925  \n",
       "cyl  -0.810812 -0.522607 -0.492687  0.526988  \n",
       "disp -0.710416 -0.591227 -0.555569  0.394977  \n",
       "hp   -0.723097 -0.243204 -0.125704  0.749812  \n",
       "drat  0.440278  0.712711  0.699610 -0.090790  \n",
       "wt   -0.554916 -0.692495 -0.583287  0.427606  \n",
       "qsec  0.744535 -0.229861 -0.212682 -0.656249  \n",
       "vs    1.000000  0.168345  0.206023 -0.569607  \n",
       "am    0.168345  1.000000  0.794059  0.057534  \n",
       "gear  0.206023  0.794059  1.000000  0.274073  \n",
       "carb -0.569607  0.057534  0.274073  1.000000  "
      ]
     },
     "execution_count": 86,
     "metadata": {},
     "output_type": "execute_result"
    }
   ],
   "source": [
    "mtcars.corr()"
   ]
  },
  {
   "cell_type": "code",
   "execution_count": 65,
   "metadata": {},
   "outputs": [
    {
     "data": {
      "text/plain": [
       "Index(['mpg', 'cyl', 'disp', 'hp', 'drat', 'wt', 'qsec', 'vs', 'am', 'gear',\n",
       "       'carb'],\n",
       "      dtype='object')"
      ]
     },
     "execution_count": 65,
     "metadata": {},
     "output_type": "execute_result"
    }
   ],
   "source": [
    "columns = mtcars.columns\n",
    "columns = columns.where(columns!='name')\n",
    "columns = columns.dropna()\n",
    "columns"
   ]
  },
  {
   "cell_type": "code",
   "execution_count": 66,
   "metadata": {},
   "outputs": [
    {
     "data": {
      "image/png": "[encoded data removed]",
      "text/plain": [
       "<Figure size 432x288 with 1 Axes>"
      ]
     },
     "metadata": {
      "needs_background": "light"
     },
     "output_type": "display_data"
    }
   ],
   "source": [
    "for citem in columns:\n",
    "    mtcars[citem].plot.kde()\n",
    "    "
   ]
  },
  {
   "cell_type": "code",
   "execution_count": 72,
   "metadata": {},
   "outputs": [],
   "source": [
    "from matplotlib import pyplot\n",
    "from pandas import read_csv\n",
    "\n",
    "columns_names = ['mpg', 'disp', 'hp', 'wt', 'qsec']\n"
   ]
  },
  {
   "cell_type": "code",
   "execution_count": 81,
   "metadata": {},
   "outputs": [
    {
     "data": {
      "text/plain": [
       "<matplotlib.axes._subplots.AxesSubplot at 0x7fa909e89668>"
      ]
     },
     "execution_count": 81,
     "metadata": {},
     "output_type": "execute_result"
    },
    {
     "data": {
      "image/png": "[encoded data removed]",
      "text/plain": [
       "<Figure size 432x288 with 1 Axes>"
      ]
     },
     "metadata": {
      "needs_background": "light"
     },
     "output_type": "display_data"
    }
   ],
   "source": [
    "mtcars[\"am\"].plot.kde()"
   ]
  },
  {
   "cell_type": "code",
   "execution_count": 76,
   "metadata": {},
   "outputs": [
    {
     "data": {
      "text/plain": [
       "array([[<matplotlib.axes._subplots.AxesSubplot object at 0x7f9e0354de10>,\n",
       "        <matplotlib.axes._subplots.AxesSubplot object at 0x7f9e03542fd0>,\n",
       "        <matplotlib.axes._subplots.AxesSubplot object at 0x7f9e034f4a90>,\n",
       "        <matplotlib.axes._subplots.AxesSubplot object at 0x7f9e03545c88>,\n",
       "        <matplotlib.axes._subplots.AxesSubplot object at 0x7f9e034ab278>],\n",
       "       [<matplotlib.axes._subplots.AxesSubplot object at 0x7f9e0345a7b8>,\n",
       "        <matplotlib.axes._subplots.AxesSubplot object at 0x7f9e0348cd68>,\n",
       "        <matplotlib.axes._subplots.AxesSubplot object at 0x7f9e0344a390>,\n",
       "        <matplotlib.axes._subplots.AxesSubplot object at 0x7f9e0344a3c8>,\n",
       "        <matplotlib.axes._subplots.AxesSubplot object at 0x7f9e033adeb8>],\n",
       "       [<matplotlib.axes._subplots.AxesSubplot object at 0x7f9e0336b4a8>,\n",
       "        <matplotlib.axes._subplots.AxesSubplot object at 0x7f9e0331ba58>,\n",
       "        <matplotlib.axes._subplots.AxesSubplot object at 0x7f9e032d9048>,\n",
       "        <matplotlib.axes._subplots.AxesSubplot object at 0x7f9e0330a5c0>,\n",
       "        <matplotlib.axes._subplots.AxesSubplot object at 0x7f9e032bbb70>],\n",
       "       [<matplotlib.axes._subplots.AxesSubplot object at 0x7f9e03278160>,\n",
       "        <matplotlib.axes._subplots.AxesSubplot object at 0x7f9e03227710>,\n",
       "        <matplotlib.axes._subplots.AxesSubplot object at 0x7f9e031dbcc0>,\n",
       "        <matplotlib.axes._subplots.AxesSubplot object at 0x7f9e031982b0>,\n",
       "        <matplotlib.axes._subplots.AxesSubplot object at 0x7f9e031ca860>],\n",
       "       [<matplotlib.axes._subplots.AxesSubplot object at 0x7f9e0317de10>,\n",
       "        <matplotlib.axes._subplots.AxesSubplot object at 0x7f9e03139400>,\n",
       "        <matplotlib.axes._subplots.AxesSubplot object at 0x7f9e030e99b0>,\n",
       "        <matplotlib.axes._subplots.AxesSubplot object at 0x7f9e0309cf60>,\n",
       "        <matplotlib.axes._subplots.AxesSubplot object at 0x7f9e0305a550>]],\n",
       "      dtype=object)"
      ]
     },
     "execution_count": 76,
     "metadata": {},
     "output_type": "execute_result"
    },
    {
     "data": {
      "image/png": "[encoded data removed]",
      "text/plain": [
       "<Figure size 720x720 with 25 Axes>"
      ]
     },
     "metadata": {
      "needs_background": "light"
     },
     "output_type": "display_data"
    }
   ],
   "source": [
    "import pandas as pd\n",
    "\n",
    "\n",
    "DF_FOR_SCATTER_MATRIX = mtcars[columns_names].copy()\n",
    "pd.plotting.scatter_matrix(DF_FOR_SCATTER_MATRIX, alpha=0.2, figsize=(10, 10))\n"
   ]
  },
  {
   "cell_type": "code",
   "execution_count": 77,
   "metadata": {},
   "outputs": [
    {
     "data": {
      "text/plain": [
       "mpg     0.672377\n",
       "cyl    -0.192261\n",
       "disp    0.420233\n",
       "hp      0.799407\n",
       "drat    0.292780\n",
       "wt      0.465916\n",
       "qsec    0.406347\n",
       "vs      0.264542\n",
       "am      0.400809\n",
       "gear    0.582309\n",
       "carb    1.157091\n",
       "dtype: float64"
      ]
     },
     "execution_count": 77,
     "metadata": {},
     "output_type": "execute_result"
    }
   ],
   "source": [
    "#0 means perfectly symmetric or normal if not not a symmetric distribution\n",
    "mtcars.skew()"
   ]
  },
  {
   "cell_type": "code",
   "execution_count": 80,
   "metadata": {},
   "outputs": [
    {
     "data": {
      "text/plain": [
       "count    32.000000\n",
       "mean     20.090625\n",
       "std       6.026948\n",
       "min      10.400000\n",
       "25%      15.425000\n",
       "50%      19.200000\n",
       "75%      22.800000\n",
       "max      33.900000\n",
       "Name: mpg, dtype: float64"
      ]
     },
     "execution_count": 80,
     "metadata": {},
     "output_type": "execute_result"
    }
   ],
   "source": [
    "mtcars[\"mpg\"].describe()"
   ]
  },
  {
   "cell_type": "code",
   "execution_count": 91,
   "metadata": {},
   "outputs": [],
   "source": [
    "#Calculating IQR Spread\n",
    "datacolumn = mtcars[\"mpg\"]\n",
    "import numpy as np\n",
    "import pandas as pd\n",
    "import matplotlib.pyplot as plt\n",
    "%matplotlib inline\n",
    "\n",
    "def outlier_treatment(datacolumn):\n",
    "  \n",
    "    print(datacolumn)\n",
    "    sorted(datacolumn)\n",
    "    Q1 , Q3 = np.percentile(datacolumn , [25,75])\n",
    "    IQR = Q3 - Q1\n",
    "    lower_range = Q1 - (1.5 * IQR)\n",
    "    upper_range = Q3 + (1.5 * IQR)\n",
    "    \n",
    "    return lower_range,upper_range,IQR"
   ]
  },
  {
   "cell_type": "code",
   "execution_count": 92,
   "metadata": {},
   "outputs": [
    {
     "name": "stdout",
     "output_type": "stream",
     "text": [
      "0     21.0\n",
      "1     21.0\n",
      "2     22.8\n",
      "3     21.4\n",
      "4     18.7\n",
      "5     18.1\n",
      "6     14.3\n",
      "7     24.4\n",
      "8     22.8\n",
      "9     19.2\n",
      "10    17.8\n",
      "11    16.4\n",
      "12    17.3\n",
      "13    15.2\n",
      "14    10.4\n",
      "15    10.4\n",
      "16    14.7\n",
      "17    32.4\n",
      "18    30.4\n",
      "19    33.9\n",
      "20    21.5\n",
      "21    15.5\n",
      "22    15.2\n",
      "23    13.3\n",
      "24    19.2\n",
      "25    27.3\n",
      "26    26.0\n",
      "27    30.4\n",
      "28    15.8\n",
      "29    19.7\n",
      "30    15.0\n",
      "31    21.4\n",
      "Name: mpg, dtype: float64\n"
     ]
    }
   ],
   "source": [
    "lowerbound,upperbound,iqr = outlier_treatment(datacolumn)"
   ]
  },
  {
   "cell_type": "code",
   "execution_count": 93,
   "metadata": {},
   "outputs": [
    {
     "name": "stdout",
     "output_type": "stream",
     "text": [
      "7.375\n"
     ]
    }
   ],
   "source": [
    "print(iqr)"
   ]
  },
  {
   "cell_type": "code",
   "execution_count": 94,
   "metadata": {},
   "outputs": [
    {
     "data": {
      "text/plain": [
       "<matplotlib.axes._subplots.AxesSubplot at 0x7fa909ce7c88>"
      ]
     },
     "execution_count": 94,
     "metadata": {},
     "output_type": "execute_result"
    },
    {
     "data": {
      "image/png": "[encoded data removed]",
      "text/plain": [
       "<Figure size 432x288 with 1 Axes>"
      ]
     },
     "metadata": {
      "needs_background": "light"
     },
     "output_type": "display_data"
    }
   ],
   "source": [
    "pd.DataFrame(mtcars[\"mpg\"]).boxplot()"
   ]
  },
  {
   "cell_type": "code",
   "execution_count": 95,
   "metadata": {},
   "outputs": [
    {
     "data": {
      "text/plain": [
       "<matplotlib.axes._subplots.AxesSubplot at 0x7fa909c0af60>"
      ]
     },
     "execution_count": 95,
     "metadata": {},
     "output_type": "execute_result"
    },
    {
     "data": {
      "image/png": "[encoded data removed]",
      "text/plain": [
       "<Figure size 432x288 with 1 Axes>"
      ]
     },
     "metadata": {
      "needs_background": "light"
     },
     "output_type": "display_data"
    }
   ],
   "source": [
    "mtcars[\"mpg\"].plot.box()"
   ]
  },
  {
   "cell_type": "code",
   "execution_count": 96,
   "metadata": {},
   "outputs": [
    {
     "ename": "AttributeError",
     "evalue": "'Series' object has no attribute 'boxplot'",
     "output_type": "error",
     "traceback": [
      "\u001b[0;31m---------------------------------------------------------------------------\u001b[0m",
      "\u001b[0;31mAttributeError\u001b[0m                            Traceback (most recent call last)",
      "\u001b[0;32m<ipython-input-96-2be6fecc936d>\u001b[0m in \u001b[0;36m<module>\u001b[0;34m\u001b[0m\n\u001b[0;32m----> 1\u001b[0;31m \u001b[0mmtcars\u001b[0m\u001b[0;34m[\u001b[0m\u001b[0;34m\"mpg\"\u001b[0m\u001b[0;34m]\u001b[0m\u001b[0;34m.\u001b[0m\u001b[0mboxplot\u001b[0m\u001b[0;34m(\u001b[0m\u001b[0;34m)\u001b[0m\u001b[0;34m\u001b[0m\u001b[0;34m\u001b[0m\u001b[0m\n\u001b[0m",
      "\u001b[0;32m/usr/local/anaconda/lib/python3.6/site-packages/pandas/core/generic.py\u001b[0m in \u001b[0;36m__getattr__\u001b[0;34m(self, name)\u001b[0m\n\u001b[1;32m   5177\u001b[0m             \u001b[0;32mif\u001b[0m \u001b[0mself\u001b[0m\u001b[0;34m.\u001b[0m\u001b[0m_info_axis\u001b[0m\u001b[0;34m.\u001b[0m\u001b[0m_can_hold_identifiers_and_holds_name\u001b[0m\u001b[0;34m(\u001b[0m\u001b[0mname\u001b[0m\u001b[0;34m)\u001b[0m\u001b[0;34m:\u001b[0m\u001b[0;34m\u001b[0m\u001b[0;34m\u001b[0m\u001b[0m\n\u001b[1;32m   5178\u001b[0m                 \u001b[0;32mreturn\u001b[0m \u001b[0mself\u001b[0m\u001b[0;34m[\u001b[0m\u001b[0mname\u001b[0m\u001b[0;34m]\u001b[0m\u001b[0;34m\u001b[0m\u001b[0;34m\u001b[0m\u001b[0m\n\u001b[0;32m-> 5179\u001b[0;31m             \u001b[0;32mreturn\u001b[0m \u001b[0mobject\u001b[0m\u001b[0;34m.\u001b[0m\u001b[0m__getattribute__\u001b[0m\u001b[0;34m(\u001b[0m\u001b[0mself\u001b[0m\u001b[0;34m,\u001b[0m \u001b[0mname\u001b[0m\u001b[0;34m)\u001b[0m\u001b[0;34m\u001b[0m\u001b[0;34m\u001b[0m\u001b[0m\n\u001b[0m\u001b[1;32m   5180\u001b[0m \u001b[0;34m\u001b[0m\u001b[0m\n\u001b[1;32m   5181\u001b[0m     \u001b[0;32mdef\u001b[0m \u001b[0m__setattr__\u001b[0m\u001b[0;34m(\u001b[0m\u001b[0mself\u001b[0m\u001b[0;34m,\u001b[0m \u001b[0mname\u001b[0m\u001b[0;34m,\u001b[0m \u001b[0mvalue\u001b[0m\u001b[0;34m)\u001b[0m\u001b[0;34m:\u001b[0m\u001b[0;34m\u001b[0m\u001b[0;34m\u001b[0m\u001b[0m\n",
      "\u001b[0;31mAttributeError\u001b[0m: 'Series' object has no attribute 'boxplot'"
     ]
    }
   ],
   "source": [
    "mtcars[\"mpg\"].boxplot()"
   ]
  },
  {
   "cell_type": "code",
   "execution_count": 101,
   "metadata": {},
   "outputs": [
    {
     "data": {
      "text/plain": [
       "<matplotlib.axes._subplots.AxesSubplot at 0x7f9e02e48a20>"
      ]
     },
     "execution_count": 101,
     "metadata": {},
     "output_type": "execute_result"
    },
    {
     "data": {
      "image/png": "[encoded data removed]",
      "text/plain": [
       "<Figure size 432x288 with 1 Axes>"
      ]
     },
     "metadata": {
      "needs_background": "light"
     },
     "output_type": "display_data"
    }
   ],
   "source": [
    "mtcars.boxplot(column=['mpg'])"
   ]
  },
  {
   "cell_type": "code",
   "execution_count": 8,
   "metadata": {},
   "outputs": [
    {
     "name": "stdout",
     "output_type": "stream",
     "text": [
      "20.090624999999996\n"
     ]
    }
   ],
   "source": [
    "print(mtcars[\"mpg\"].mean())"
   ]
  },
  {
   "cell_type": "code",
   "execution_count": 9,
   "metadata": {},
   "outputs": [
    {
     "name": "stdout",
     "output_type": "stream",
     "text": [
      "6.026948052089105\n"
     ]
    }
   ],
   "source": [
    "print(mtcars[\"mpg\"].std())"
   ]
  },
  {
   "cell_type": "code",
   "execution_count": 110,
   "metadata": {},
   "outputs": [
    {
     "name": "stdout",
     "output_type": "stream",
     "text": [
      "36.32410282258065\n"
     ]
    }
   ],
   "source": [
    "print(mtcars[\"mpg\"].var())"
   ]
  },
  {
   "cell_type": "code",
   "execution_count": 33,
   "metadata": {},
   "outputs": [],
   "source": [
    "mtCarsAutomatic=mtcars[\"am\"].where(mtcars[\"am\"]==0).dropna()"
   ]
  },
  {
   "cell_type": "code",
   "execution_count": 34,
   "metadata": {},
   "outputs": [],
   "source": [
    "mtCarsManual = mtcars[\"am\"].where(mtcars[\"am\"]==1).dropna()"
   ]
  },
  {
   "cell_type": "code",
   "execution_count": 35,
   "metadata": {},
   "outputs": [
    {
     "data": {
      "text/plain": [
       "0     1.0\n",
       "1     1.0\n",
       "2     1.0\n",
       "17    1.0\n",
       "18    1.0\n",
       "19    1.0\n",
       "25    1.0\n",
       "26    1.0\n",
       "27    1.0\n",
       "28    1.0\n",
       "29    1.0\n",
       "30    1.0\n",
       "31    1.0\n",
       "Name: am, dtype: float64"
      ]
     },
     "execution_count": 35,
     "metadata": {},
     "output_type": "execute_result"
    }
   ],
   "source": [
    "mtCarsManual"
   ]
  },
  {
   "cell_type": "code",
   "execution_count": 36,
   "metadata": {},
   "outputs": [
    {
     "name": "stdout",
     "output_type": "stream",
     "text": [
      "<pandas.core.groupby.generic.DataFrameGroupBy object at 0x7fa90c4990f0>\n"
     ]
    }
   ],
   "source": [
    "import pandas as pd\n",
    "\n",
    "print(mtcars.groupby((['am'] )))"
   ]
  },
  {
   "cell_type": "code",
   "execution_count": 31,
   "metadata": {},
   "outputs": [
    {
     "data": {
      "text/plain": [
       "0        Manual\n",
       "1        Manual\n",
       "2        Manual\n",
       "3     Automatic\n",
       "4     Automatic\n",
       "5     Automatic\n",
       "6     Automatic\n",
       "7     Automatic\n",
       "8     Automatic\n",
       "9     Automatic\n",
       "10    Automatic\n",
       "11    Automatic\n",
       "12    Automatic\n",
       "13    Automatic\n",
       "14    Automatic\n",
       "15    Automatic\n",
       "16    Automatic\n",
       "17       Manual\n",
       "18       Manual\n",
       "19       Manual\n",
       "20    Automatic\n",
       "21    Automatic\n",
       "22    Automatic\n",
       "23    Automatic\n",
       "24    Automatic\n",
       "25       Manual\n",
       "26       Manual\n",
       "27       Manual\n",
       "28       Manual\n",
       "29       Manual\n",
       "30       Manual\n",
       "31       Manual\n",
       "Name: EngineType, dtype: object"
      ]
     },
     "execution_count": 31,
     "metadata": {},
     "output_type": "execute_result"
    }
   ],
   "source": [
    "import numpy as np\n",
    "mtcars['EngineType'] = np.where(mtcars[\"am\"]==0,'Automatic','Manual')\n",
    "mtcars['EngineType'] \n"
   ]
  },
  {
   "cell_type": "code",
   "execution_count": 50,
   "metadata": {},
   "outputs": [
    {
     "name": "stdout",
     "output_type": "stream",
     "text": [
      "<pandas.core.groupby.generic.DataFrameGroupBy object at 0x7fa90ae9ba58>\n"
     ]
    }
   ],
   "source": [
    "dfsub = mtcars[]\n",
    "print(mtcars.groupby(['EngineType'], sort = False))\n",
    "#bp = mtcars.boxplot(column=['Automatic', 'Manual'], by=['X', 'Y'])"
   ]
  },
  {
   "cell_type": "code",
   "execution_count": 57,
   "metadata": {},
   "outputs": [
    {
     "data": {
      "text/plain": [
       "mpg    AxesSubplot(0.1,0.15;0.8x0.75)\n",
       "dtype: object"
      ]
     },
     "execution_count": 57,
     "metadata": {},
     "output_type": "execute_result"
    },
    {
     "data": {
      "image/png": "[encoded data removed]",
      "text/plain": [
       "<Figure size 432x288 with 1 Axes>"
      ]
     },
     "metadata": {
      "needs_background": "light"
     },
     "output_type": "display_data"
    }
   ],
   "source": [
    "mtcars.boxplot(column=['mpg'], by='EngineType',\n",
    "                     return_type='axes')\n"
   ]
  },
  {
   "cell_type": "code",
   "execution_count": 66,
   "metadata": {},
   "outputs": [
    {
     "data": {
      "text/plain": [
       "cyl    AxesSubplot(0.1,0.15;0.8x0.75)\n",
       "dtype: object"
      ]
     },
     "execution_count": 66,
     "metadata": {},
     "output_type": "execute_result"
    },
    {
     "data": {
      "image/png": "[encoded data removed]",
      "text/plain": [
       "<Figure size 432x288 with 1 Axes>"
      ]
     },
     "metadata": {
      "needs_background": "light"
     },
     "output_type": "display_data"
    }
   ],
   "source": [
    "mtcars.boxplot(column=['cyl'], by='EngineType',  return_type='axes')\n",
    "\n",
    "#'cyl', 'disp', 'hp', 'drat', 'wt', 'qsec', 'vs', 'am', 'gear', 'carb'"
   ]
  },
  {
   "cell_type": "code",
   "execution_count": null,
   "metadata": {},
   "outputs": [],
   "source": [
    "norm_data = pd.DataFrame(np.random.normal(size=100000))\n",
    "norm_data.plot(kind=\"density\",figsize=(10,10),xlim=(-1,5))\n",
    "plt.vlines(norm_data.mean(), ymin=0, ymax=0.8, linewidth=5.0)\n",
    "plt.vlines(norm_data.median(),\n",
    "ymin=0,\n",
    "ymax=0.8,\n",
    "linewidth=2.0,\n",
    "color=\"red\")"
   ]
  },
  {
   "cell_type": "code",
   "execution_count": 100,
   "metadata": {},
   "outputs": [],
   "source": []
  },
  {
   "cell_type": "code",
   "execution_count": 105,
   "metadata": {},
   "outputs": [
    {
     "data": {
      "text/plain": [
       "<matplotlib.collections.LineCollection at 0x7fa9082139e8>"
      ]
     },
     "execution_count": 105,
     "metadata": {},
     "output_type": "execute_result"
    },
    {
     "data": {
      "image/png": "[encoded data removed]",
      "text/plain": [
       "<Figure size 720x720 with 1 Axes>"
      ]
     },
     "metadata": {
      "needs_background": "light"
     },
     "output_type": "display_data"
    }
   ],
   "source": [
    "skewed_data = pd.DataFrame(np.random.exponential(size=100000))\n",
    "skewed_data.plot(kind=\"density\",figsize=(10,10),xlim=(-1,5))\n",
    "plt.vlines(skewed_data.mean(), ymin=0, ymax=0.8, linewidth=5.0)\n",
    "plt.vlines(skewed_data.median(),\n",
    "ymin=0,\n",
    "ymax=0.8,\n",
    "linewidth=2.0,\n",
    "color=\"red\")"
   ]
  },
  {
   "cell_type": "code",
   "execution_count": 102,
   "metadata": {},
   "outputs": [
    {
     "data": {
      "text/plain": [
       "<matplotlib.collections.LineCollection at 0x7fa90810ab00>"
      ]
     },
     "execution_count": 102,
     "metadata": {},
     "output_type": "execute_result"
    },
    {
     "data": {
      "image/png": "[encoded data removed]",
      "text/plain": [
       "<Figure size 432x288 with 1 Axes>"
      ]
     },
     "metadata": {
      "needs_background": "light"
     },
     "output_type": "display_data"
    }
   ],
   "source": []
  },
  {
   "cell_type": "code",
   "execution_count": 104,
   "metadata": {},
   "outputs": [
    {
     "data": {
      "text/plain": [
       "<matplotlib.collections.LineCollection at 0x7fa9082964e0>"
      ]
     },
     "execution_count": 104,
     "metadata": {},
     "output_type": "execute_result"
    },
    {
     "data": {
      "image/png": "[encoded data removed]",
      "text/plain": [
       "<Figure size 432x288 with 1 Axes>"
      ]
     },
     "metadata": {
      "needs_background": "light"
     },
     "output_type": "display_data"
    }
   ],
   "source": []
  },
  {
   "cell_type": "code",
   "execution_count": null,
   "metadata": {},
   "outputs": [],
   "source": []
  }
 ],
 "metadata": {
  "kernelspec": {
   "display_name": "Python 3",
   "language": "python",
   "name": "python3"
  },
  "language_info": {
   "codemirror_mode": {
    "name": "ipython",
    "version": 3
   },
   "file_extension": ".py",
   "mimetype": "text/x-python",
   "name": "python",
   "nbconvert_exporter": "python",
   "pygments_lexer": "ipython3",
   "version": "3.6.8"
  },
  "toc": {
   "base_numbering": 1,
   "nav_menu": {},
   "number_sections": true,
   "sideBar": true,
   "skip_h1_title": false,
   "title_cell": "Table of Contents",
   "title_sidebar": "Contents",
   "toc_cell": false,
   "toc_position": {},
   "toc_section_display": true,
   "toc_window_display": false
  }
 },
 "nbformat": 4,
 "nbformat_minor": 2
}
