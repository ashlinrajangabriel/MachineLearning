{
  "nbformat": 4,
  "nbformat_minor": 0,
  "metadata": {
    "colab": {
      "name": "LSTM-Translate.ipynb",
      "provenance": []
    },
    "kernelspec": {
      "name": "python3",
      "display_name": "Python 3"
    },
    "language_info": {
      "name": "python"
    }
  },
  "cells": [
    {
      "cell_type": "code",
      "metadata": {
        "id": "xnQONFvP2HBv"
      },
      "source": [
        "import numpy as np\n",
        "import tensorflow as tf\n",
        "from tensorflow import keras"
      ],
      "execution_count": 1,
      "outputs": []
    },
    {
      "cell_type": "code",
      "metadata": {
        "id": "iw2HvHAUZx4E"
      },
      "source": [
        "#Configuration\n",
        "batch_size = 64  # Batch size for training.\n",
        "epochs = 100  # Number of epochs to train for.\n",
        "latent_dim = 256  # Latent dimensionality of the encoding space.\n",
        "num_samples = 10000  # Number of samples to train on.\n",
        "# Path to the data txt file on disk.\n",
        "data_path = \"fra.txt\"\n"
      ],
      "execution_count": 2,
      "outputs": []
    },
    {
      "cell_type": "code",
      "metadata": {
        "colab": {
          "resources": {
            "http://localhost:8080/nbextensions/google.colab/files.js": {
              "data": "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",
              "ok": true,
              "headers": [
                [
                  "content-type",
                  "application/javascript"
                ]
              ],
              "status": 200,
              "status_text": ""
            }
          },
          "base_uri": "https://localhost:8080/",
          "height": 73
        },
        "id": "1sXpnbP0Z38h",
        "outputId": "23bcae14-9a7b-4233-a2ed-dbf73c89b4d4"
      },
      "source": [
        "from google.colab import files\n",
        "uploaded = files.upload()"
      ],
      "execution_count": 3,
      "outputs": [
        {
          "output_type": "display_data",
          "data": {
            "text/html": [
              "\n",
              "     <input type=\"file\" id=\"files-5da258a4-429c-40f0-9603-e7b09a7f4cc5\" name=\"files[]\" multiple disabled\n",
              "        style=\"border:none\" />\n",
              "     <output id=\"result-5da258a4-429c-40f0-9603-e7b09a7f4cc5\">\n",
              "      Upload widget is only available when the cell has been executed in the\n",
              "      current browser session. Please rerun this cell to enable.\n",
              "      </output>\n",
              "      <script src=\"/nbextensions/google.colab/files.js\"></script> "
            ],
            "text/plain": [
              "<IPython.core.display.HTML object>"
            ]
          },
          "metadata": {
            "tags": []
          }
        },
        {
          "output_type": "stream",
          "text": [
            "Saving fra.txt to fra.txt\n"
          ],
          "name": "stdout"
        }
      ]
    },
    {
      "cell_type": "code",
      "metadata": {
        "id": "mgWn7NPUe32M"
      },
      "source": [
        "#Prepare the data\n",
        "# Vectorize the data.\n",
        "input_texts = []\n",
        "target_texts = []\n",
        "input_characters = set()\n",
        "target_characters = set()"
      ],
      "execution_count": 4,
      "outputs": []
    },
    {
      "cell_type": "code",
      "metadata": {
        "id": "q-c-Yxcee4Wi"
      },
      "source": [
        "with open(data_path, \"r\", encoding=\"utf-8\") as f:\n",
        "    lines = f.read().split(\"\\n\")\n",
        "for line in lines[: min(num_samples, len(lines) - 1)]:\n",
        "    input_text, target_text, _ = line.split(\"\\t\")\n",
        "    # We use \"tab\" as the \"start sequence\" character\n",
        "    # for the targets, and \"\\n\" as \"end sequence\" character.\n",
        "    target_text = \"\\t\" + target_text + \"\\n\"\n",
        "    input_texts.append(input_text)\n",
        "    target_texts.append(target_text)\n",
        "    for char in input_text:\n",
        "        if char not in input_characters:\n",
        "            input_characters.add(char)\n",
        "    for char in target_text:\n",
        "        if char not in target_characters:\n",
        "            target_characters.add(char)\n"
      ],
      "execution_count": 8,
      "outputs": []
    },
    {
      "cell_type": "code",
      "metadata": {
        "id": "rio1-_Nee7DZ"
      },
      "source": [
        "input_characters = sorted(list(input_characters))\n",
        "target_characters = sorted(list(target_characters))\n",
        "num_encoder_tokens = len(input_characters)\n",
        "num_decoder_tokens = len(target_characters)\n",
        "max_encoder_seq_length = max([len(txt) for txt in input_texts])\n",
        "max_decoder_seq_length = max([len(txt) for txt in target_texts])"
      ],
      "execution_count": 11,
      "outputs": []
    },
    {
      "cell_type": "code",
      "metadata": {
        "colab": {
          "base_uri": "https://localhost:8080/"
        },
        "id": "36NaaRlufFYV",
        "outputId": "1f10c93b-f22b-47d5-9bc5-afa83fa08194"
      },
      "source": [
        "print(\"Number of samples:\", len(input_texts))\n",
        "print(\"Number of unique input tokens:\", num_encoder_tokens)\n",
        "print(\"Number of unique output tokens:\", num_decoder_tokens)\n",
        "print(\"Max sequence length for inputs:\", max_encoder_seq_length)\n",
        "print(\"Max sequence length for outputs:\", max_decoder_seq_length)\n"
      ],
      "execution_count": 17,
      "outputs": [
        {
          "output_type": "stream",
          "text": [
            "Number of samples: 10000\n",
            "Number of unique input tokens: 71\n",
            "Number of unique output tokens: 92\n",
            "Max sequence length for inputs: 15\n",
            "Max sequence length for outputs: 59\n"
          ],
          "name": "stdout"
        }
      ]
    },
    {
      "cell_type": "code",
      "metadata": {
        "id": "UjOC0KtHfXgq"
      },
      "source": [
        "input_token_index = dict([(char, i) for i, char in enumerate(input_characters)])\n",
        "target_token_index = dict([(char, i) for i, char in enumerate(target_characters)])\n"
      ],
      "execution_count": 18,
      "outputs": []
    },
    {
      "cell_type": "code",
      "metadata": {
        "id": "EDgELWB_ft9u"
      },
      "source": [
        "encoder_input_data = np.zeros(\n",
        "    (len(input_texts), max_encoder_seq_length, num_encoder_tokens), dtype=\"float32\"\n",
        ")"
      ],
      "execution_count": 19,
      "outputs": []
    },
    {
      "cell_type": "code",
      "metadata": {
        "id": "2BydUt98f5YL"
      },
      "source": [
        "decoder_input_data = np.zeros(\n",
        "    (len(input_texts), max_decoder_seq_length, num_decoder_tokens), dtype=\"float32\"\n",
        ")"
      ],
      "execution_count": 21,
      "outputs": []
    },
    {
      "cell_type": "code",
      "metadata": {
        "id": "AAHQIclhf7MX"
      },
      "source": [
        "decoder_target_data = np.zeros(\n",
        "    (len(input_texts), max_decoder_seq_length, num_decoder_tokens), dtype=\"float32\"\n",
        ")"
      ],
      "execution_count": 22,
      "outputs": []
    },
    {
      "cell_type": "code",
      "metadata": {
        "id": "hElQ48oYf-R4"
      },
      "source": [
        "for i, (input_text, target_text) in enumerate(zip(input_texts, target_texts)):\n",
        "    for t, char in enumerate(input_text):\n",
        "        encoder_input_data[i, t, input_token_index[char]] = 1.0\n",
        "    encoder_input_data[i, t + 1 :, input_token_index[\" \"]] = 1.0\n",
        "    for t, char in enumerate(target_text):\n",
        "        # decoder_target_data is ahead of decoder_input_data by one timestep\n",
        "        decoder_input_data[i, t, target_token_index[char]] = 1.0\n",
        "        if t > 0:\n",
        "            # decoder_target_data will be ahead by one timestep\n",
        "            # and will not include the start character.\n",
        "            decoder_target_data[i, t - 1, target_token_index[char]] = 1.0\n",
        "    decoder_input_data[i, t + 1 :, target_token_index[\" \"]] = 1.0\n",
        "    decoder_target_data[i, t:, target_token_index[\" \"]] = 1.0"
      ],
      "execution_count": 23,
      "outputs": []
    },
    {
      "cell_type": "code",
      "metadata": {
        "id": "OPCjwOQhgB0w"
      },
      "source": [
        "#Build the model\n",
        "\n",
        "# Define an input sequence and process it.\n",
        "encoder_inputs = keras.Input(shape=(None, num_encoder_tokens))\n",
        "encoder = keras.layers.LSTM(latent_dim, return_state=True)\n",
        "encoder_outputs, state_h, state_c = encoder(encoder_inputs)"
      ],
      "execution_count": 26,
      "outputs": []
    },
    {
      "cell_type": "code",
      "metadata": {
        "id": "TCmgPFTigG3Z"
      },
      "source": [
        "# We discard `encoder_outputs` and only keep the states.\n",
        "encoder_states = [state_h, state_c]"
      ],
      "execution_count": 27,
      "outputs": []
    },
    {
      "cell_type": "code",
      "metadata": {
        "id": "omBRGz1OgNb_"
      },
      "source": [
        "# Set up the decoder, using `encoder_states` as initial state.\n",
        "decoder_inputs = keras.Input(shape=(None, num_decoder_tokens))"
      ],
      "execution_count": 28,
      "outputs": []
    },
    {
      "cell_type": "code",
      "metadata": {
        "id": "SZGKDEApgQgA"
      },
      "source": [
        "# We set up our decoder to return full output sequences,\n",
        "# and to return internal states as well. We don't use the\n",
        "# return states in the training model, but we will use them in inference.\n",
        "decoder_lstm = keras.layers.LSTM(latent_dim, return_sequences=True, return_state=True)\n",
        "decoder_outputs, _, _ = decoder_lstm(decoder_inputs, initial_state=encoder_states)\n",
        "decoder_dense = keras.layers.Dense(num_decoder_tokens, activation=\"softmax\")\n",
        "decoder_outputs = decoder_dense(decoder_outputs)"
      ],
      "execution_count": 29,
      "outputs": []
    },
    {
      "cell_type": "code",
      "metadata": {
        "id": "A00_BIW8gSjY"
      },
      "source": [
        "# Define the model that will turn\n",
        "# `encoder_input_data` & `decoder_input_data` into `decoder_target_data`\n",
        "model = keras.Model([encoder_inputs, decoder_inputs], decoder_outputs)\n"
      ],
      "execution_count": 30,
      "outputs": []
    },
    {
      "cell_type": "code",
      "metadata": {
        "colab": {
          "base_uri": "https://localhost:8080/"
        },
        "id": "-ayxyZLSgXjR",
        "outputId": "99e0705a-4659-426c-a15a-0cf9dfa8748e"
      },
      "source": [
        "#Train the model\n",
        "\n",
        "model.compile(\n",
        "    optimizer=\"rmsprop\", loss=\"categorical_crossentropy\", metrics=[\"accuracy\"]\n",
        ")\n",
        "model.fit(\n",
        "    [encoder_input_data, decoder_input_data],\n",
        "    decoder_target_data,\n",
        "    batch_size=batch_size,\n",
        "    epochs=epochs,\n",
        "    validation_split=0.2,\n",
        ")\n",
        "# Save model\n",
        "model.save(\"s2s\")"
      ],
      "execution_count": 31,
      "outputs": [
        {
          "output_type": "stream",
          "text": [
            "Epoch 1/100\n",
            "125/125 [==============================] - 50s 381ms/step - loss: 1.1353 - accuracy: 0.7367 - val_loss: 1.0210 - val_accuracy: 0.7109\n",
            "Epoch 2/100\n",
            "125/125 [==============================] - 46s 372ms/step - loss: 0.8138 - accuracy: 0.7798 - val_loss: 0.8223 - val_accuracy: 0.7754\n",
            "Epoch 3/100\n",
            "125/125 [==============================] - 46s 371ms/step - loss: 0.6609 - accuracy: 0.8161 - val_loss: 0.6962 - val_accuracy: 0.7985\n",
            "Epoch 4/100\n",
            "125/125 [==============================] - 46s 369ms/step - loss: 0.5755 - accuracy: 0.8332 - val_loss: 0.6292 - val_accuracy: 0.8170\n",
            "Epoch 5/100\n",
            "125/125 [==============================] - 46s 371ms/step - loss: 0.5272 - accuracy: 0.8461 - val_loss: 0.5844 - val_accuracy: 0.8313\n",
            "Epoch 6/100\n",
            "125/125 [==============================] - 46s 370ms/step - loss: 0.4910 - accuracy: 0.8558 - val_loss: 0.5585 - val_accuracy: 0.8376\n",
            "Epoch 7/100\n",
            "125/125 [==============================] - 46s 372ms/step - loss: 0.4620 - accuracy: 0.8634 - val_loss: 0.5368 - val_accuracy: 0.8424\n",
            "Epoch 8/100\n",
            "125/125 [==============================] - 47s 373ms/step - loss: 0.4379 - accuracy: 0.8696 - val_loss: 0.5249 - val_accuracy: 0.8447\n",
            "Epoch 9/100\n",
            "125/125 [==============================] - 47s 373ms/step - loss: 0.4176 - accuracy: 0.8749 - val_loss: 0.5030 - val_accuracy: 0.8518\n",
            "Epoch 10/100\n",
            "125/125 [==============================] - 46s 370ms/step - loss: 0.3984 - accuracy: 0.8806 - val_loss: 0.4935 - val_accuracy: 0.8558\n",
            "Epoch 11/100\n",
            "125/125 [==============================] - 46s 371ms/step - loss: 0.3812 - accuracy: 0.8857 - val_loss: 0.4788 - val_accuracy: 0.8593\n",
            "Epoch 12/100\n",
            "125/125 [==============================] - 47s 375ms/step - loss: 0.3656 - accuracy: 0.8898 - val_loss: 0.4702 - val_accuracy: 0.8621\n",
            "Epoch 13/100\n",
            "125/125 [==============================] - 46s 369ms/step - loss: 0.3511 - accuracy: 0.8943 - val_loss: 0.4664 - val_accuracy: 0.8631\n",
            "Epoch 14/100\n",
            "125/125 [==============================] - 46s 371ms/step - loss: 0.3374 - accuracy: 0.8982 - val_loss: 0.4578 - val_accuracy: 0.8668\n",
            "Epoch 15/100\n",
            "125/125 [==============================] - 47s 374ms/step - loss: 0.3247 - accuracy: 0.9021 - val_loss: 0.4582 - val_accuracy: 0.8669\n",
            "Epoch 16/100\n",
            "125/125 [==============================] - 47s 374ms/step - loss: 0.3123 - accuracy: 0.9058 - val_loss: 0.4543 - val_accuracy: 0.8682\n",
            "Epoch 17/100\n",
            "125/125 [==============================] - 46s 372ms/step - loss: 0.3009 - accuracy: 0.9094 - val_loss: 0.4516 - val_accuracy: 0.8690\n",
            "Epoch 18/100\n",
            "125/125 [==============================] - 47s 375ms/step - loss: 0.2899 - accuracy: 0.9123 - val_loss: 0.4490 - val_accuracy: 0.8706\n",
            "Epoch 19/100\n",
            "125/125 [==============================] - 47s 374ms/step - loss: 0.2795 - accuracy: 0.9154 - val_loss: 0.4474 - val_accuracy: 0.8717\n",
            "Epoch 20/100\n",
            "125/125 [==============================] - 47s 379ms/step - loss: 0.2698 - accuracy: 0.9182 - val_loss: 0.4468 - val_accuracy: 0.8713\n",
            "Epoch 21/100\n",
            "125/125 [==============================] - 48s 383ms/step - loss: 0.2604 - accuracy: 0.9214 - val_loss: 0.4470 - val_accuracy: 0.8717\n",
            "Epoch 22/100\n",
            "125/125 [==============================] - 47s 374ms/step - loss: 0.2512 - accuracy: 0.9237 - val_loss: 0.4456 - val_accuracy: 0.8734\n",
            "Epoch 23/100\n",
            "125/125 [==============================] - 47s 376ms/step - loss: 0.2429 - accuracy: 0.9263 - val_loss: 0.4526 - val_accuracy: 0.8732\n",
            "Epoch 24/100\n",
            "125/125 [==============================] - 47s 373ms/step - loss: 0.2346 - accuracy: 0.9289 - val_loss: 0.4494 - val_accuracy: 0.8741\n",
            "Epoch 25/100\n",
            "125/125 [==============================] - 47s 376ms/step - loss: 0.2271 - accuracy: 0.9309 - val_loss: 0.4499 - val_accuracy: 0.8750\n",
            "Epoch 26/100\n",
            "125/125 [==============================] - 47s 377ms/step - loss: 0.2197 - accuracy: 0.9330 - val_loss: 0.4530 - val_accuracy: 0.8755\n",
            "Epoch 27/100\n",
            "125/125 [==============================] - 47s 379ms/step - loss: 0.2122 - accuracy: 0.9352 - val_loss: 0.4597 - val_accuracy: 0.8743\n",
            "Epoch 28/100\n",
            "125/125 [==============================] - 47s 375ms/step - loss: 0.2054 - accuracy: 0.9378 - val_loss: 0.4618 - val_accuracy: 0.8749\n",
            "Epoch 29/100\n",
            "125/125 [==============================] - 47s 376ms/step - loss: 0.1988 - accuracy: 0.9396 - val_loss: 0.4623 - val_accuracy: 0.8755\n",
            "Epoch 30/100\n",
            "125/125 [==============================] - 48s 383ms/step - loss: 0.1927 - accuracy: 0.9412 - val_loss: 0.4674 - val_accuracy: 0.8756\n",
            "Epoch 31/100\n",
            "125/125 [==============================] - 47s 380ms/step - loss: 0.1867 - accuracy: 0.9432 - val_loss: 0.4772 - val_accuracy: 0.8738\n",
            "Epoch 32/100\n",
            "125/125 [==============================] - 49s 389ms/step - loss: 0.1810 - accuracy: 0.9446 - val_loss: 0.4728 - val_accuracy: 0.8760\n",
            "Epoch 33/100\n",
            "125/125 [==============================] - 49s 390ms/step - loss: 0.1754 - accuracy: 0.9463 - val_loss: 0.4814 - val_accuracy: 0.8740\n",
            "Epoch 34/100\n",
            "125/125 [==============================] - 48s 388ms/step - loss: 0.1698 - accuracy: 0.9481 - val_loss: 0.4840 - val_accuracy: 0.8745\n",
            "Epoch 35/100\n",
            "125/125 [==============================] - 49s 395ms/step - loss: 0.1650 - accuracy: 0.9494 - val_loss: 0.4917 - val_accuracy: 0.8743\n",
            "Epoch 36/100\n",
            "125/125 [==============================] - 48s 382ms/step - loss: 0.1602 - accuracy: 0.9505 - val_loss: 0.4914 - val_accuracy: 0.8754\n",
            "Epoch 37/100\n",
            "125/125 [==============================] - 47s 379ms/step - loss: 0.1553 - accuracy: 0.9521 - val_loss: 0.5003 - val_accuracy: 0.8744\n",
            "Epoch 38/100\n",
            "125/125 [==============================] - 47s 377ms/step - loss: 0.1508 - accuracy: 0.9535 - val_loss: 0.4994 - val_accuracy: 0.8753\n",
            "Epoch 39/100\n",
            "125/125 [==============================] - 47s 374ms/step - loss: 0.1464 - accuracy: 0.9550 - val_loss: 0.5060 - val_accuracy: 0.8748\n",
            "Epoch 40/100\n",
            "125/125 [==============================] - 46s 372ms/step - loss: 0.1423 - accuracy: 0.9563 - val_loss: 0.5125 - val_accuracy: 0.8739\n",
            "Epoch 41/100\n",
            "125/125 [==============================] - 47s 373ms/step - loss: 0.1382 - accuracy: 0.9571 - val_loss: 0.5173 - val_accuracy: 0.8747\n",
            "Epoch 42/100\n",
            "125/125 [==============================] - 48s 381ms/step - loss: 0.1345 - accuracy: 0.9582 - val_loss: 0.5234 - val_accuracy: 0.8751\n",
            "Epoch 43/100\n",
            "125/125 [==============================] - 47s 378ms/step - loss: 0.1310 - accuracy: 0.9594 - val_loss: 0.5253 - val_accuracy: 0.8753\n",
            "Epoch 44/100\n",
            "125/125 [==============================] - 47s 374ms/step - loss: 0.1271 - accuracy: 0.9603 - val_loss: 0.5300 - val_accuracy: 0.8748\n",
            "Epoch 45/100\n",
            "125/125 [==============================] - 46s 370ms/step - loss: 0.1237 - accuracy: 0.9616 - val_loss: 0.5378 - val_accuracy: 0.8739\n",
            "Epoch 46/100\n",
            "125/125 [==============================] - 46s 371ms/step - loss: 0.1205 - accuracy: 0.9624 - val_loss: 0.5426 - val_accuracy: 0.8741\n",
            "Epoch 47/100\n",
            "125/125 [==============================] - 47s 373ms/step - loss: 0.1171 - accuracy: 0.9635 - val_loss: 0.5461 - val_accuracy: 0.8743\n",
            "Epoch 48/100\n",
            "125/125 [==============================] - 47s 376ms/step - loss: 0.1143 - accuracy: 0.9644 - val_loss: 0.5520 - val_accuracy: 0.8739\n",
            "Epoch 49/100\n",
            "125/125 [==============================] - 47s 373ms/step - loss: 0.1116 - accuracy: 0.9653 - val_loss: 0.5622 - val_accuracy: 0.8742\n",
            "Epoch 50/100\n",
            "125/125 [==============================] - 47s 380ms/step - loss: 0.1084 - accuracy: 0.9661 - val_loss: 0.5602 - val_accuracy: 0.8743\n",
            "Epoch 51/100\n",
            "125/125 [==============================] - 47s 380ms/step - loss: 0.1058 - accuracy: 0.9669 - val_loss: 0.5669 - val_accuracy: 0.8737\n",
            "Epoch 52/100\n",
            "125/125 [==============================] - 47s 375ms/step - loss: 0.1032 - accuracy: 0.9676 - val_loss: 0.5692 - val_accuracy: 0.8743\n",
            "Epoch 53/100\n",
            "125/125 [==============================] - 47s 375ms/step - loss: 0.1006 - accuracy: 0.9684 - val_loss: 0.5835 - val_accuracy: 0.8726\n",
            "Epoch 54/100\n",
            "125/125 [==============================] - 47s 378ms/step - loss: 0.0988 - accuracy: 0.9689 - val_loss: 0.5839 - val_accuracy: 0.8740\n",
            "Epoch 55/100\n",
            "125/125 [==============================] - 47s 380ms/step - loss: 0.0960 - accuracy: 0.9699 - val_loss: 0.5926 - val_accuracy: 0.8730\n",
            "Epoch 56/100\n",
            "125/125 [==============================] - 47s 380ms/step - loss: 0.0938 - accuracy: 0.9706 - val_loss: 0.5932 - val_accuracy: 0.8733\n",
            "Epoch 57/100\n",
            "125/125 [==============================] - 47s 379ms/step - loss: 0.0919 - accuracy: 0.9709 - val_loss: 0.5976 - val_accuracy: 0.8726\n",
            "Epoch 58/100\n",
            "125/125 [==============================] - 48s 382ms/step - loss: 0.0896 - accuracy: 0.9716 - val_loss: 0.6020 - val_accuracy: 0.8724\n",
            "Epoch 59/100\n",
            "125/125 [==============================] - 48s 387ms/step - loss: 0.0880 - accuracy: 0.9718 - val_loss: 0.6180 - val_accuracy: 0.8714\n",
            "Epoch 60/100\n",
            "125/125 [==============================] - 47s 377ms/step - loss: 0.0856 - accuracy: 0.9726 - val_loss: 0.6079 - val_accuracy: 0.8727\n",
            "Epoch 61/100\n",
            "125/125 [==============================] - 47s 376ms/step - loss: 0.0840 - accuracy: 0.9731 - val_loss: 0.6199 - val_accuracy: 0.8729\n",
            "Epoch 62/100\n",
            "125/125 [==============================] - 47s 374ms/step - loss: 0.0819 - accuracy: 0.9737 - val_loss: 0.6191 - val_accuracy: 0.8727\n",
            "Epoch 63/100\n",
            "125/125 [==============================] - 47s 378ms/step - loss: 0.0805 - accuracy: 0.9741 - val_loss: 0.6330 - val_accuracy: 0.8718\n",
            "Epoch 64/100\n",
            "125/125 [==============================] - 47s 376ms/step - loss: 0.0788 - accuracy: 0.9747 - val_loss: 0.6296 - val_accuracy: 0.8715\n",
            "Epoch 65/100\n",
            "125/125 [==============================] - 47s 376ms/step - loss: 0.0771 - accuracy: 0.9750 - val_loss: 0.6367 - val_accuracy: 0.8714\n",
            "Epoch 66/100\n",
            "125/125 [==============================] - 47s 375ms/step - loss: 0.0756 - accuracy: 0.9755 - val_loss: 0.6394 - val_accuracy: 0.8723\n",
            "Epoch 67/100\n",
            "125/125 [==============================] - 47s 380ms/step - loss: 0.0740 - accuracy: 0.9759 - val_loss: 0.6470 - val_accuracy: 0.8715\n",
            "Epoch 68/100\n",
            "125/125 [==============================] - 48s 384ms/step - loss: 0.0724 - accuracy: 0.9763 - val_loss: 0.6532 - val_accuracy: 0.8708\n",
            "Epoch 69/100\n",
            "125/125 [==============================] - 47s 380ms/step - loss: 0.0710 - accuracy: 0.9767 - val_loss: 0.6524 - val_accuracy: 0.8718\n",
            "Epoch 70/100\n",
            "125/125 [==============================] - 47s 377ms/step - loss: 0.0698 - accuracy: 0.9771 - val_loss: 0.6626 - val_accuracy: 0.8721\n",
            "Epoch 71/100\n",
            "125/125 [==============================] - 47s 380ms/step - loss: 0.0683 - accuracy: 0.9775 - val_loss: 0.6651 - val_accuracy: 0.8721\n",
            "Epoch 72/100\n",
            "125/125 [==============================] - 47s 378ms/step - loss: 0.0668 - accuracy: 0.9780 - val_loss: 0.6665 - val_accuracy: 0.8712\n",
            "Epoch 73/100\n",
            "125/125 [==============================] - 47s 379ms/step - loss: 0.0660 - accuracy: 0.9783 - val_loss: 0.6709 - val_accuracy: 0.8711\n",
            "Epoch 74/100\n",
            "125/125 [==============================] - 47s 375ms/step - loss: 0.0647 - accuracy: 0.9784 - val_loss: 0.6745 - val_accuracy: 0.8722\n",
            "Epoch 75/100\n",
            "125/125 [==============================] - 47s 372ms/step - loss: 0.0635 - accuracy: 0.9788 - val_loss: 0.6809 - val_accuracy: 0.8716\n",
            "Epoch 76/100\n",
            "125/125 [==============================] - 47s 376ms/step - loss: 0.0624 - accuracy: 0.9792 - val_loss: 0.6866 - val_accuracy: 0.8706\n",
            "Epoch 77/100\n",
            "125/125 [==============================] - 47s 375ms/step - loss: 0.0617 - accuracy: 0.9792 - val_loss: 0.6908 - val_accuracy: 0.8709\n",
            "Epoch 78/100\n",
            "125/125 [==============================] - 47s 373ms/step - loss: 0.0603 - accuracy: 0.9798 - val_loss: 0.6940 - val_accuracy: 0.8709\n",
            "Epoch 79/100\n",
            "125/125 [==============================] - 46s 372ms/step - loss: 0.0589 - accuracy: 0.9801 - val_loss: 0.6948 - val_accuracy: 0.8711\n",
            "Epoch 80/100\n",
            "125/125 [==============================] - 46s 370ms/step - loss: 0.0583 - accuracy: 0.9801 - val_loss: 0.7081 - val_accuracy: 0.8699\n",
            "Epoch 81/100\n",
            "125/125 [==============================] - 46s 372ms/step - loss: 0.0575 - accuracy: 0.9805 - val_loss: 0.7025 - val_accuracy: 0.8707\n",
            "Epoch 82/100\n",
            "125/125 [==============================] - 46s 371ms/step - loss: 0.0562 - accuracy: 0.9808 - val_loss: 0.7059 - val_accuracy: 0.8714\n",
            "Epoch 83/100\n",
            "125/125 [==============================] - 47s 373ms/step - loss: 0.0555 - accuracy: 0.9811 - val_loss: 0.7124 - val_accuracy: 0.8704\n",
            "Epoch 84/100\n",
            "125/125 [==============================] - 47s 375ms/step - loss: 0.0546 - accuracy: 0.9814 - val_loss: 0.7147 - val_accuracy: 0.8712\n",
            "Epoch 85/100\n",
            "125/125 [==============================] - 46s 372ms/step - loss: 0.0541 - accuracy: 0.9814 - val_loss: 0.7211 - val_accuracy: 0.8703\n",
            "Epoch 86/100\n",
            "125/125 [==============================] - 47s 373ms/step - loss: 0.0534 - accuracy: 0.9815 - val_loss: 0.7204 - val_accuracy: 0.8707\n",
            "Epoch 87/100\n",
            "125/125 [==============================] - 47s 375ms/step - loss: 0.0521 - accuracy: 0.9818 - val_loss: 0.7251 - val_accuracy: 0.8700\n",
            "Epoch 88/100\n",
            "125/125 [==============================] - 46s 372ms/step - loss: 0.0513 - accuracy: 0.9821 - val_loss: 0.7290 - val_accuracy: 0.8706\n",
            "Epoch 89/100\n",
            "125/125 [==============================] - 47s 375ms/step - loss: 0.0509 - accuracy: 0.9826 - val_loss: 0.7327 - val_accuracy: 0.8714\n",
            "Epoch 90/100\n",
            "125/125 [==============================] - 47s 373ms/step - loss: 0.0502 - accuracy: 0.9825 - val_loss: 0.7280 - val_accuracy: 0.8719\n",
            "Epoch 91/100\n",
            "125/125 [==============================] - 47s 373ms/step - loss: 0.0495 - accuracy: 0.9827 - val_loss: 0.7433 - val_accuracy: 0.8695\n",
            "Epoch 92/100\n",
            "125/125 [==============================] - 46s 370ms/step - loss: 0.0488 - accuracy: 0.9830 - val_loss: 0.7483 - val_accuracy: 0.8702\n",
            "Epoch 93/100\n",
            "125/125 [==============================] - 47s 373ms/step - loss: 0.0480 - accuracy: 0.9833 - val_loss: 0.7453 - val_accuracy: 0.8701\n",
            "Epoch 94/100\n",
            "125/125 [==============================] - 47s 373ms/step - loss: 0.0473 - accuracy: 0.9835 - val_loss: 0.7499 - val_accuracy: 0.8698\n",
            "Epoch 95/100\n",
            "125/125 [==============================] - 46s 370ms/step - loss: 0.0472 - accuracy: 0.9833 - val_loss: 0.7525 - val_accuracy: 0.8706\n",
            "Epoch 96/100\n",
            "125/125 [==============================] - 47s 373ms/step - loss: 0.0465 - accuracy: 0.9836 - val_loss: 0.7506 - val_accuracy: 0.8705\n",
            "Epoch 97/100\n",
            "125/125 [==============================] - 47s 379ms/step - loss: 0.0459 - accuracy: 0.9838 - val_loss: 0.7642 - val_accuracy: 0.8705\n",
            "Epoch 98/100\n",
            "125/125 [==============================] - 47s 378ms/step - loss: 0.0457 - accuracy: 0.9838 - val_loss: 0.7690 - val_accuracy: 0.8695\n",
            "Epoch 99/100\n",
            "125/125 [==============================] - 47s 376ms/step - loss: 0.0450 - accuracy: 0.9839 - val_loss: 0.7644 - val_accuracy: 0.8705\n",
            "Epoch 100/100\n",
            "125/125 [==============================] - 47s 378ms/step - loss: 0.0444 - accuracy: 0.9840 - val_loss: 0.7603 - val_accuracy: 0.8708\n"
          ],
          "name": "stdout"
        },
        {
          "output_type": "stream",
          "text": [
            "WARNING:absl:Found untraced functions such as lstm_cell_1_layer_call_and_return_conditional_losses, lstm_cell_1_layer_call_fn, lstm_cell_2_layer_call_and_return_conditional_losses, lstm_cell_2_layer_call_fn, lstm_cell_1_layer_call_fn while saving (showing 5 of 10). These functions will not be directly callable after loading.\n"
          ],
          "name": "stderr"
        },
        {
          "output_type": "stream",
          "text": [
            "INFO:tensorflow:Assets written to: s2s/assets\n"
          ],
          "name": "stdout"
        },
        {
          "output_type": "stream",
          "text": [
            "INFO:tensorflow:Assets written to: s2s/assets\n"
          ],
          "name": "stderr"
        }
      ]
    },
    {
      "cell_type": "code",
      "metadata": {
        "colab": {
          "base_uri": "https://localhost:8080/",
          "height": 53
        },
        "id": "iCh-9yW7gaJR",
        "outputId": "fbccb4f7-b389-455e-acb0-e210f66f996a"
      },
      "source": [
        "##Run inference (sampling)\n",
        "\n",
        "\"\"\"\n",
        "1)encode input and retrieve initial decoder state\n",
        "2)run one step of decoder with this initial state and a \"start of sequence\" token as target. Output will be the next target token.\n",
        "3)Repeat with the current target token and current states\n",
        "\n",
        "\n",
        "\"\"\""
      ],
      "execution_count": 36,
      "outputs": [
        {
          "output_type": "execute_result",
          "data": {
            "application/vnd.google.colaboratory.intrinsic+json": {
              "type": "string"
            },
            "text/plain": [
              "'\\n1)encode input and retrieve initial decoder state\\n2)run one step of decoder with this initial state and a \"start of sequence\" token as target. Output will be the next target token.\\n3)Repeat with the current target token and current states\\n\\n\\n'"
            ]
          },
          "metadata": {
            "tags": []
          },
          "execution_count": 36
        }
      ]
    },
    {
      "cell_type": "code",
      "metadata": {
        "id": "NcoF6JRlggKB"
      },
      "source": [
        "# Define sampling models\n",
        "# Restore the model and construct the encoder and decoder.\n",
        "model = keras.models.load_model(\"s2s\")\n",
        "\n",
        "encoder_inputs = model.input[0]  # input_1\n",
        "encoder_outputs, state_h_enc, state_c_enc = model.layers[2].output  # lstm_1\n",
        "encoder_states = [state_h_enc, state_c_enc]\n",
        "encoder_model = keras.Model(encoder_inputs, encoder_states)\n",
        "\n",
        "decoder_inputs = model.input[1]  # input_2\n",
        "decoder_state_input_h = keras.Input(shape=(latent_dim,), name=\"input_5\")\n",
        "decoder_state_input_c = keras.Input(shape=(latent_dim,), name=\"input_6\")\n",
        "decoder_states_inputs = [decoder_state_input_h, decoder_state_input_c]\n",
        "decoder_lstm = model.layers[3]\n",
        "decoder_outputs, state_h_dec, state_c_dec = decoder_lstm(\n",
        "    decoder_inputs, initial_state=decoder_states_inputs\n",
        ")\n",
        "decoder_states = [state_h_dec, state_c_dec]\n",
        "decoder_dense = model.layers[4]\n",
        "decoder_outputs = decoder_dense(decoder_outputs)\n",
        "decoder_model = keras.Model(\n",
        "    [decoder_inputs] + decoder_states_inputs, [decoder_outputs] + decoder_states\n",
        ")\n",
        "\n",
        "# Reverse-lookup token index to decode sequences back to\n",
        "# something readable.\n",
        "reverse_input_char_index = dict((i, char) for char, i in input_token_index.items())\n",
        "reverse_target_char_index = dict((i, char) for char, i in target_token_index.items())\n",
        "\n",
        "\n",
        "def decode_sequence(input_seq):\n",
        "    # Encode the input as state vectors.\n",
        "    states_value = encoder_model.predict(input_seq)\n",
        "\n",
        "    # Generate empty target sequence of length 1.\n",
        "    target_seq = np.zeros((1, 1, num_decoder_tokens))\n",
        "    # Populate the first character of target sequence with the start character.\n",
        "    target_seq[0, 0, target_token_index[\"\\t\"]] = 1.0\n",
        "\n",
        "    # Sampling loop for a batch of sequences\n",
        "    # (to simplify, here we assume a batch of size 1).\n",
        "    stop_condition = False\n",
        "    decoded_sentence = \"\"\n",
        "    while not stop_condition:\n",
        "        output_tokens, h, c = decoder_model.predict([target_seq] + states_value)\n",
        "\n",
        "        # Sample a token\n",
        "        sampled_token_index = np.argmax(output_tokens[0, -1, :])\n",
        "        sampled_char = reverse_target_char_index[sampled_token_index]\n",
        "        decoded_sentence += sampled_char\n",
        "\n",
        "        # Exit condition: either hit max length\n",
        "        # or find stop character.\n",
        "        if sampled_char == \"\\n\" or len(decoded_sentence) > max_decoder_seq_length:\n",
        "            stop_condition = True\n",
        "\n",
        "        # Update the target sequence (of length 1).\n",
        "        target_seq = np.zeros((1, 1, num_decoder_tokens))\n",
        "        target_seq[0, 0, sampled_token_index] = 1.0\n",
        "\n",
        "        # Update states\n",
        "        states_value = [h, c]\n",
        "    return decoded_sentence"
      ],
      "execution_count": 41,
      "outputs": []
    },
    {
      "cell_type": "code",
      "metadata": {
        "id": "j0SddB5ogvQJ"
      },
      "source": [
        "def decode_sequence(input_seq):\n",
        "    # Encode the input as state vectors.\n",
        "    states_value = encoder_model.predict(input_seq)\n",
        "\n",
        "    # Generate empty target sequence of length 1.\n",
        "    target_seq = np.zeros((1, 1, num_decoder_tokens))\n",
        "    # Populate the first character of target sequence with the start character.\n",
        "    target_seq[0, 0, target_token_index[\"\\t\"]] = 1.0\n",
        "\n",
        "    # Sampling loop for a batch of sequences\n",
        "    # (to simplify, here we assume a batch of size 1).\n",
        "    stop_condition = False\n",
        "    decoded_sentence = \"\"\n",
        "    while not stop_condition:\n",
        "        output_tokens, h, c = decoder_model.predict([target_seq] + states_value)\n",
        "\n",
        "        # Sample a token\n",
        "        sampled_token_index = np.argmax(output_tokens[0, -1, :])\n",
        "        sampled_char = reverse_target_char_index[sampled_token_index]\n",
        "        decoded_sentence += sampled_char\n",
        "\n",
        "        # Exit condition: either hit max length\n",
        "        # or find stop character.\n",
        "        if sampled_char == \"\\n\" or len(decoded_sentence) > max_decoder_seq_length:\n",
        "            stop_condition = True\n",
        "\n",
        "        # Update the target sequence (of length 1).\n",
        "        target_seq = np.zeros((1, 1, num_decoder_tokens))\n",
        "        target_seq[0, 0, sampled_token_index] = 1.0\n",
        "\n",
        "        # Update states\n",
        "        states_value = [h, c]\n",
        "    return decoded_sentence\n",
        "\n",
        "#You can now generate decoded sentences as such:\n"
      ],
      "execution_count": 42,
      "outputs": []
    },
    {
      "cell_type": "code",
      "metadata": {
        "colab": {
          "base_uri": "https://localhost:8080/"
        },
        "id": "oQ__YoN7114D",
        "outputId": "b01cf0a9-aae9-4137-d795-c197379eb299"
      },
      "source": [
        ""
      ],
      "execution_count": 45,
      "outputs": [
        {
          "output_type": "execute_result",
          "data": {
            "text/plain": [
              "array([], shape=(0, 15, 71), dtype=float32)"
            ]
          },
          "metadata": {
            "tags": []
          },
          "execution_count": 45
        }
      ]
    },
    {
      "cell_type": "code",
      "metadata": {
        "colab": {
          "base_uri": "https://localhost:8080/"
        },
        "id": "_-Pgw1sGgyUf",
        "outputId": "c835b76b-23c0-49f2-f342-3cabef58c8f0"
      },
      "source": [
        "for seq_index in range(20):\n",
        "    # Take one sequence (part of the training set)\n",
        "    # for trying out decoding.\n",
        "    input_seq = encoder_input_data[seq_index : seq_index + 1]\n",
        "    decoded_sentence = decode_sequence(input_seq)\n",
        "    print(\"-\")\n",
        "    print(\"Input sentence:\", input_texts[seq_index])\n",
        "    print(\"Decoded sentence:\", decoded_sentence)\n"
      ],
      "execution_count": 43,
      "outputs": [
        {
          "output_type": "stream",
          "text": [
            "-\n",
            "Input sentence: Go.\n",
            "Decoded sentence: Bouge !\n",
            "\n",
            "-\n",
            "Input sentence: Go.\n",
            "Decoded sentence: Bouge !\n",
            "\n",
            "-\n",
            "Input sentence: Go.\n",
            "Decoded sentence: Bouge !\n",
            "\n",
            "-\n",
            "Input sentence: Hi.\n",
            "Decoded sentence: Salut !\n",
            "\n",
            "-\n",
            "Input sentence: Hi.\n",
            "Decoded sentence: Salut !\n",
            "\n",
            "-\n",
            "Input sentence: Run!\n",
            "Decoded sentence: Fuyez !\n",
            "\n",
            "-\n",
            "Input sentence: Run!\n",
            "Decoded sentence: Fuyez !\n",
            "\n",
            "-\n",
            "Input sentence: Run!\n",
            "Decoded sentence: Fuyez !\n",
            "\n",
            "-\n",
            "Input sentence: Run!\n",
            "Decoded sentence: Fuyez !\n",
            "\n",
            "-\n",
            "Input sentence: Run!\n",
            "Decoded sentence: Fuyez !\n",
            "\n",
            "-\n",
            "Input sentence: Run!\n",
            "Decoded sentence: Fuyez !\n",
            "\n",
            "-\n",
            "Input sentence: Run!\n",
            "Decoded sentence: Fuyez !\n",
            "\n",
            "-\n",
            "Input sentence: Run!\n",
            "Decoded sentence: Fuyez !\n",
            "\n",
            "-\n",
            "Input sentence: Run.\n",
            "Decoded sentence: Fuyez !\n",
            "\n",
            "-\n",
            "Input sentence: Run.\n",
            "Decoded sentence: Fuyez !\n",
            "\n",
            "-\n",
            "Input sentence: Run.\n",
            "Decoded sentence: Fuyez !\n",
            "\n",
            "-\n",
            "Input sentence: Run.\n",
            "Decoded sentence: Fuyez !\n",
            "\n",
            "-\n",
            "Input sentence: Run.\n",
            "Decoded sentence: Fuyez !\n",
            "\n",
            "-\n",
            "Input sentence: Run.\n",
            "Decoded sentence: Fuyez !\n",
            "\n",
            "-\n",
            "Input sentence: Run.\n",
            "Decoded sentence: Fuyez !\n",
            "\n"
          ],
          "name": "stdout"
        }
      ]
    },
    {
      "cell_type": "code",
      "metadata": {
        "id": "ACErdI4iiV_v"
      },
      "source": [
        ""
      ],
      "execution_count": null,
      "outputs": []
    }
  ]
}