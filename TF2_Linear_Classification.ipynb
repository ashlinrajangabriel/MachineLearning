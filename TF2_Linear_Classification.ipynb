{
  "nbformat": 4,
  "nbformat_minor": 0,
  "metadata": {
    "colab": {
      "name": "TF2 Linear Classification.ipynb",
      "provenance": [],
      "collapsed_sections": []
    },
    "kernelspec": {
      "name": "python3",
      "display_name": "Python 3"
    }
  },
  "cells": [
    {
      "cell_type": "code",
      "metadata": {
        "id": "FynwA_TkfayV"
      },
      "source": [
        "#TensorFlow Linear Classification"
      ],
      "execution_count": null,
      "outputs": []
    },
    {
      "cell_type": "code",
      "metadata": {
        "id": "wND-yeMEflsI",
        "outputId": "36bf6ee5-f3bb-4530-e4cc-da463ed46558",
        "colab": {
          "base_uri": "https://localhost:8080/",
          "height": 87
        }
      },
      "source": [
        "pip install -q tensorflow==2.0.0-beta1\n"
      ],
      "execution_count": 2,
      "outputs": [
        {
          "output_type": "stream",
          "text": [
            "\u001b[K     |████████████████████████████████| 87.9MB 98kB/s \n",
            "\u001b[K     |████████████████████████████████| 3.1MB 41.5MB/s \n",
            "\u001b[K     |████████████████████████████████| 501kB 41.8MB/s \n",
            "\u001b[K     |████████████████████████████████| 51kB 5.9MB/s \n",
            "\u001b[?25h"
          ],
          "name": "stdout"
        }
      ]
    },
    {
      "cell_type": "code",
      "metadata": {
        "id": "5yM-TRNUfqJU",
        "outputId": "08a45591-2ff0-46c9-ff2d-ac54e22f9575",
        "colab": {
          "base_uri": "https://localhost:8080/",
          "height": 471
        }
      },
      "source": [
        "import tensorflow as tf\n"
      ],
      "execution_count": 5,
      "outputs": [
        {
          "output_type": "stream",
          "text": [
            "/usr/local/lib/python3.6/dist-packages/tensorflow/python/framework/dtypes.py:516: FutureWarning: Passing (type, 1) or '1type' as a synonym of type is deprecated; in a future version of numpy, it will be understood as (type, (1,)) / '(1,)type'.\n",
            "  _np_qint8 = np.dtype([(\"qint8\", np.int8, 1)])\n",
            "/usr/local/lib/python3.6/dist-packages/tensorflow/python/framework/dtypes.py:517: FutureWarning: Passing (type, 1) or '1type' as a synonym of type is deprecated; in a future version of numpy, it will be understood as (type, (1,)) / '(1,)type'.\n",
            "  _np_quint8 = np.dtype([(\"quint8\", np.uint8, 1)])\n",
            "/usr/local/lib/python3.6/dist-packages/tensorflow/python/framework/dtypes.py:518: FutureWarning: Passing (type, 1) or '1type' as a synonym of type is deprecated; in a future version of numpy, it will be understood as (type, (1,)) / '(1,)type'.\n",
            "  _np_qint16 = np.dtype([(\"qint16\", np.int16, 1)])\n",
            "/usr/local/lib/python3.6/dist-packages/tensorflow/python/framework/dtypes.py:519: FutureWarning: Passing (type, 1) or '1type' as a synonym of type is deprecated; in a future version of numpy, it will be understood as (type, (1,)) / '(1,)type'.\n",
            "  _np_quint16 = np.dtype([(\"quint16\", np.uint16, 1)])\n",
            "/usr/local/lib/python3.6/dist-packages/tensorflow/python/framework/dtypes.py:520: FutureWarning: Passing (type, 1) or '1type' as a synonym of type is deprecated; in a future version of numpy, it will be understood as (type, (1,)) / '(1,)type'.\n",
            "  _np_qint32 = np.dtype([(\"qint32\", np.int32, 1)])\n",
            "/usr/local/lib/python3.6/dist-packages/tensorflow/python/framework/dtypes.py:525: FutureWarning: Passing (type, 1) or '1type' as a synonym of type is deprecated; in a future version of numpy, it will be understood as (type, (1,)) / '(1,)type'.\n",
            "  np_resource = np.dtype([(\"resource\", np.ubyte, 1)])\n"
          ],
          "name": "stderr"
        },
        {
          "output_type": "stream",
          "text": [
            "2.0.0-beta1\n"
          ],
          "name": "stdout"
        },
        {
          "output_type": "stream",
          "text": [
            "/usr/local/lib/python3.6/dist-packages/tensorboard/compat/tensorflow_stub/dtypes.py:541: FutureWarning: Passing (type, 1) or '1type' as a synonym of type is deprecated; in a future version of numpy, it will be understood as (type, (1,)) / '(1,)type'.\n",
            "  _np_qint8 = np.dtype([(\"qint8\", np.int8, 1)])\n",
            "/usr/local/lib/python3.6/dist-packages/tensorboard/compat/tensorflow_stub/dtypes.py:542: FutureWarning: Passing (type, 1) or '1type' as a synonym of type is deprecated; in a future version of numpy, it will be understood as (type, (1,)) / '(1,)type'.\n",
            "  _np_quint8 = np.dtype([(\"quint8\", np.uint8, 1)])\n",
            "/usr/local/lib/python3.6/dist-packages/tensorboard/compat/tensorflow_stub/dtypes.py:543: FutureWarning: Passing (type, 1) or '1type' as a synonym of type is deprecated; in a future version of numpy, it will be understood as (type, (1,)) / '(1,)type'.\n",
            "  _np_qint16 = np.dtype([(\"qint16\", np.int16, 1)])\n",
            "/usr/local/lib/python3.6/dist-packages/tensorboard/compat/tensorflow_stub/dtypes.py:544: FutureWarning: Passing (type, 1) or '1type' as a synonym of type is deprecated; in a future version of numpy, it will be understood as (type, (1,)) / '(1,)type'.\n",
            "  _np_quint16 = np.dtype([(\"quint16\", np.uint16, 1)])\n",
            "/usr/local/lib/python3.6/dist-packages/tensorboard/compat/tensorflow_stub/dtypes.py:545: FutureWarning: Passing (type, 1) or '1type' as a synonym of type is deprecated; in a future version of numpy, it will be understood as (type, (1,)) / '(1,)type'.\n",
            "  _np_qint32 = np.dtype([(\"qint32\", np.int32, 1)])\n",
            "/usr/local/lib/python3.6/dist-packages/tensorboard/compat/tensorflow_stub/dtypes.py:550: FutureWarning: Passing (type, 1) or '1type' as a synonym of type is deprecated; in a future version of numpy, it will be understood as (type, (1,)) / '(1,)type'.\n",
            "  np_resource = np.dtype([(\"resource\", np.ubyte, 1)])\n"
          ],
          "name": "stderr"
        }
      ]
    },
    {
      "cell_type": "code",
      "metadata": {
        "id": "d9q9xBitgFsk",
        "outputId": "1fe16d6f-9424-4284-9a57-7bdd4e23d4e8",
        "colab": {
          "base_uri": "https://localhost:8080/",
          "height": 35
        }
      },
      "source": [
        "print(tf.__version__)"
      ],
      "execution_count": 6,
      "outputs": [
        {
          "output_type": "stream",
          "text": [
            "2.0.0-beta1\n"
          ],
          "name": "stdout"
        }
      ]
    },
    {
      "cell_type": "code",
      "metadata": {
        "id": "kCsWhFn1fyTA"
      },
      "source": [
        "from sklearn.datasets import load_breast_cancer #Import dataset from scikit learn"
      ],
      "execution_count": 7,
      "outputs": []
    },
    {
      "cell_type": "code",
      "metadata": {
        "id": "05vlgJYOf34w"
      },
      "source": [
        "data = load_breast_cancer() #saving data in dataframe"
      ],
      "execution_count": 8,
      "outputs": []
    },
    {
      "cell_type": "code",
      "metadata": {
        "id": "WS2O5dZ4gIqu",
        "outputId": "301b0b9a-00fd-43ac-bd17-0d881a0937ea",
        "colab": {
          "base_uri": "https://localhost:8080/",
          "height": 35
        }
      },
      "source": [
        "type(data)"
      ],
      "execution_count": 9,
      "outputs": [
        {
          "output_type": "execute_result",
          "data": {
            "text/plain": [
              "sklearn.utils.Bunch"
            ]
          },
          "metadata": {
            "tags": []
          },
          "execution_count": 9
        }
      ]
    },
    {
      "cell_type": "code",
      "metadata": {
        "id": "7sDHJ7EugLVo",
        "outputId": "f3fa93d8-913b-4c4b-d4be-cf2c95cae7c8",
        "colab": {
          "base_uri": "https://localhost:8080/",
          "height": 35
        }
      },
      "source": [
        "data.keys()"
      ],
      "execution_count": 10,
      "outputs": [
        {
          "output_type": "execute_result",
          "data": {
            "text/plain": [
              "dict_keys(['data', 'target', 'target_names', 'DESCR', 'feature_names', 'filename'])"
            ]
          },
          "metadata": {
            "tags": []
          },
          "execution_count": 10
        }
      ]
    },
    {
      "cell_type": "code",
      "metadata": {
        "id": "O2iETQGxgZVf",
        "outputId": "65cc8c07-d7cb-488c-e93f-2e0449acf17d",
        "colab": {
          "base_uri": "https://localhost:8080/",
          "height": 35
        }
      },
      "source": [
        "data.data.shape #There are 569 samples and 30 features"
      ],
      "execution_count": 12,
      "outputs": [
        {
          "output_type": "execute_result",
          "data": {
            "text/plain": [
              "(569, 30)"
            ]
          },
          "metadata": {
            "tags": []
          },
          "execution_count": 12
        }
      ]
    },
    {
      "cell_type": "code",
      "metadata": {
        "id": "Urxeqb_UgcHv",
        "outputId": "4560a5d3-c263-42de-b619-e33200c3ff84",
        "colab": {
          "base_uri": "https://localhost:8080/",
          "height": 468
        }
      },
      "source": [
        "data.target"
      ],
      "execution_count": 13,
      "outputs": [
        {
          "output_type": "execute_result",
          "data": {
            "text/plain": [
              "array([0, 0, 0, 0, 0, 0, 0, 0, 0, 0, 0, 0, 0, 0, 0, 0, 0, 0, 0, 1, 1, 1,\n",
              "       0, 0, 0, 0, 0, 0, 0, 0, 0, 0, 0, 0, 0, 0, 0, 1, 0, 0, 0, 0, 0, 0,\n",
              "       0, 0, 1, 0, 1, 1, 1, 1, 1, 0, 0, 1, 0, 0, 1, 1, 1, 1, 0, 1, 0, 0,\n",
              "       1, 1, 1, 1, 0, 1, 0, 0, 1, 0, 1, 0, 0, 1, 1, 1, 0, 0, 1, 0, 0, 0,\n",
              "       1, 1, 1, 0, 1, 1, 0, 0, 1, 1, 1, 0, 0, 1, 1, 1, 1, 0, 1, 1, 0, 1,\n",
              "       1, 1, 1, 1, 1, 1, 1, 0, 0, 0, 1, 0, 0, 1, 1, 1, 0, 0, 1, 0, 1, 0,\n",
              "       0, 1, 0, 0, 1, 1, 0, 1, 1, 0, 1, 1, 1, 1, 0, 1, 1, 1, 1, 1, 1, 1,\n",
              "       1, 1, 0, 1, 1, 1, 1, 0, 0, 1, 0, 1, 1, 0, 0, 1, 1, 0, 0, 1, 1, 1,\n",
              "       1, 0, 1, 1, 0, 0, 0, 1, 0, 1, 0, 1, 1, 1, 0, 1, 1, 0, 0, 1, 0, 0,\n",
              "       0, 0, 1, 0, 0, 0, 1, 0, 1, 0, 1, 1, 0, 1, 0, 0, 0, 0, 1, 1, 0, 0,\n",
              "       1, 1, 1, 0, 1, 1, 1, 1, 1, 0, 0, 1, 1, 0, 1, 1, 0, 0, 1, 0, 1, 1,\n",
              "       1, 1, 0, 1, 1, 1, 1, 1, 0, 1, 0, 0, 0, 0, 0, 0, 0, 0, 0, 0, 0, 0,\n",
              "       0, 0, 1, 1, 1, 1, 1, 1, 0, 1, 0, 1, 1, 0, 1, 1, 0, 1, 0, 0, 1, 1,\n",
              "       1, 1, 1, 1, 1, 1, 1, 1, 1, 1, 1, 0, 1, 1, 0, 1, 0, 1, 1, 1, 1, 1,\n",
              "       1, 1, 1, 1, 1, 1, 1, 1, 1, 0, 1, 1, 1, 0, 1, 0, 1, 1, 1, 1, 0, 0,\n",
              "       0, 1, 1, 1, 1, 0, 1, 0, 1, 0, 1, 1, 1, 0, 1, 1, 1, 1, 1, 1, 1, 0,\n",
              "       0, 0, 1, 1, 1, 1, 1, 1, 1, 1, 1, 1, 1, 0, 0, 1, 0, 0, 0, 1, 0, 0,\n",
              "       1, 1, 1, 1, 1, 0, 1, 1, 1, 1, 1, 0, 1, 1, 1, 0, 1, 1, 0, 0, 1, 1,\n",
              "       1, 1, 1, 1, 0, 1, 1, 1, 1, 1, 1, 1, 0, 1, 1, 1, 1, 1, 0, 1, 1, 0,\n",
              "       1, 1, 1, 1, 1, 1, 1, 1, 1, 1, 1, 1, 0, 1, 0, 0, 1, 0, 1, 1, 1, 1,\n",
              "       1, 0, 1, 1, 0, 1, 0, 1, 1, 0, 1, 0, 1, 1, 1, 1, 1, 1, 1, 1, 0, 0,\n",
              "       1, 1, 1, 1, 1, 1, 0, 1, 1, 1, 1, 1, 1, 1, 1, 1, 1, 0, 1, 1, 1, 1,\n",
              "       1, 1, 1, 0, 1, 0, 1, 1, 0, 1, 1, 1, 1, 1, 0, 0, 1, 0, 1, 0, 1, 1,\n",
              "       1, 1, 1, 0, 1, 1, 0, 1, 0, 1, 0, 0, 1, 1, 1, 0, 1, 1, 1, 1, 1, 1,\n",
              "       1, 1, 1, 1, 1, 0, 1, 0, 0, 1, 1, 1, 1, 1, 1, 1, 1, 1, 1, 1, 1, 1,\n",
              "       1, 1, 1, 1, 1, 1, 1, 1, 1, 1, 1, 1, 0, 0, 0, 0, 0, 0, 1])"
            ]
          },
          "metadata": {
            "tags": []
          },
          "execution_count": 13
        }
      ]
    },
    {
      "cell_type": "code",
      "metadata": {
        "id": "PbLYlyyzgkWP",
        "outputId": "000872dc-2e2a-427f-d629-ea8cef631174",
        "colab": {
          "base_uri": "https://localhost:8080/",
          "height": 35
        }
      },
      "source": [
        "data.target_names"
      ],
      "execution_count": 14,
      "outputs": [
        {
          "output_type": "execute_result",
          "data": {
            "text/plain": [
              "array(['malignant', 'benign'], dtype='<U9')"
            ]
          },
          "metadata": {
            "tags": []
          },
          "execution_count": 14
        }
      ]
    },
    {
      "cell_type": "code",
      "metadata": {
        "id": "NhLcR6ZVgmRn",
        "outputId": "053c356a-ce4d-404d-987e-43508450490f",
        "colab": {
          "base_uri": "https://localhost:8080/",
          "height": 35
        }
      },
      "source": [
        "data.target.shape"
      ],
      "execution_count": 15,
      "outputs": [
        {
          "output_type": "execute_result",
          "data": {
            "text/plain": [
              "(569,)"
            ]
          },
          "metadata": {
            "tags": []
          },
          "execution_count": 15
        }
      ]
    },
    {
      "cell_type": "code",
      "metadata": {
        "id": "B60MRn13gpjf",
        "outputId": "757345cf-3005-43b8-a3e7-91caa16f5e68",
        "colab": {
          "base_uri": "https://localhost:8080/",
          "height": 191
        }
      },
      "source": [
        "data.feature_names"
      ],
      "execution_count": 16,
      "outputs": [
        {
          "output_type": "execute_result",
          "data": {
            "text/plain": [
              "array(['mean radius', 'mean texture', 'mean perimeter', 'mean area',\n",
              "       'mean smoothness', 'mean compactness', 'mean concavity',\n",
              "       'mean concave points', 'mean symmetry', 'mean fractal dimension',\n",
              "       'radius error', 'texture error', 'perimeter error', 'area error',\n",
              "       'smoothness error', 'compactness error', 'concavity error',\n",
              "       'concave points error', 'symmetry error',\n",
              "       'fractal dimension error', 'worst radius', 'worst texture',\n",
              "       'worst perimeter', 'worst area', 'worst smoothness',\n",
              "       'worst compactness', 'worst concavity', 'worst concave points',\n",
              "       'worst symmetry', 'worst fractal dimension'], dtype='<U23')"
            ]
          },
          "metadata": {
            "tags": []
          },
          "execution_count": 16
        }
      ]
    },
    {
      "cell_type": "code",
      "metadata": {
        "id": "XWW6uV_DgreP"
      },
      "source": [
        "from sklearn.model_selection import train_test_split\n",
        "\n",
        "X_train,X_test, y_train, y_test = train_test_split(data.data,data.target,test_size = 0.33)"
      ],
      "execution_count": 17,
      "outputs": []
    },
    {
      "cell_type": "code",
      "metadata": {
        "id": "HWrx3ZOfg7To"
      },
      "source": [
        "N, D = X_train.shape"
      ],
      "execution_count": 18,
      "outputs": []
    },
    {
      "cell_type": "code",
      "metadata": {
        "id": "hHsTLLQOg-rY"
      },
      "source": [
        "from sklearn.preprocessing import StandardScaler\n",
        "scaler = StandardScaler()\n",
        "X_train = scaler.fit_transform(X_train)\n",
        "X_test = scaler.transform(X_test)"
      ],
      "execution_count": 20,
      "outputs": []
    },
    {
      "cell_type": "code",
      "metadata": {
        "id": "NAQPxRm9hAl4",
        "outputId": "0399abf0-0b13-4213-efe8-a280bb967887",
        "colab": {
          "base_uri": "https://localhost:8080/",
          "height": 1000
        }
      },
      "source": [
        "#Now tensor flow stuff.\n",
        "#Build the model\n",
        "\n",
        "model = tf.keras.models.Sequential(\n",
        "    [\n",
        "     tf.keras.layers.Input(shape=(D,)),\n",
        "     tf.keras.layers.Dense(1,activation='sigmoid')\n",
        "\n",
        "    ]\n",
        ")\n",
        "\n",
        "#Alternatively we can add the following \n",
        "#model = tf.keras.models.Sequential()\n",
        "#model.add(tf.keras.layers.Dense(1,input_shape=(D,), activation='sigmoid'))\n",
        "\n",
        "model.compile(optimizer = 'adam', loss = 'binary_crossentropy',metrics=['accuracy'])\n",
        "\n",
        "#Train the model\n",
        "\n",
        "r = model.fit(X_train,y_train,validation_data=(X_test,y_test),epochs = 100)\n",
        "\n",
        "#Evaluate the model -evaluate() returns loss and accuracy\n",
        "print(\"Train score:\" , model.evaluate(X_train,y_train))\n",
        "print(\"Test score:\" , model.evaluate(X_test,y_test))"
      ],
      "execution_count": 23,
      "outputs": [
        {
          "output_type": "stream",
          "text": [
            "WARNING:tensorflow:From /usr/local/lib/python3.6/dist-packages/tensorflow/python/ops/math_grad.py:1250: add_dispatch_support.<locals>.wrapper (from tensorflow.python.ops.array_ops) is deprecated and will be removed in a future version.\n",
            "Instructions for updating:\n",
            "Use tf.where in 2.0, which has the same broadcast rule as np.where\n",
            "Train on 381 samples, validate on 188 samples\n",
            "Epoch 1/100\n",
            "381/381 [==============================] - 0s 560us/sample - loss: 0.5974 - accuracy: 0.7165 - val_loss: 0.5398 - val_accuracy: 0.7553\n",
            "Epoch 2/100\n",
            "381/381 [==============================] - 0s 65us/sample - loss: 0.5540 - accuracy: 0.7690 - val_loss: 0.5020 - val_accuracy: 0.7766\n",
            "Epoch 3/100\n",
            "381/381 [==============================] - 0s 72us/sample - loss: 0.5156 - accuracy: 0.7900 - val_loss: 0.4678 - val_accuracy: 0.7872\n",
            "Epoch 4/100\n",
            "381/381 [==============================] - 0s 67us/sample - loss: 0.4822 - accuracy: 0.8031 - val_loss: 0.4368 - val_accuracy: 0.8245\n",
            "Epoch 5/100\n",
            "381/381 [==============================] - 0s 74us/sample - loss: 0.4524 - accuracy: 0.8215 - val_loss: 0.4090 - val_accuracy: 0.8511\n",
            "Epoch 6/100\n",
            "381/381 [==============================] - 0s 63us/sample - loss: 0.4251 - accuracy: 0.8425 - val_loss: 0.3851 - val_accuracy: 0.8777\n",
            "Epoch 7/100\n",
            "381/381 [==============================] - 0s 63us/sample - loss: 0.4018 - accuracy: 0.8504 - val_loss: 0.3634 - val_accuracy: 0.8830\n",
            "Epoch 8/100\n",
            "381/381 [==============================] - 0s 61us/sample - loss: 0.3812 - accuracy: 0.8635 - val_loss: 0.3437 - val_accuracy: 0.8830\n",
            "Epoch 9/100\n",
            "381/381 [==============================] - 0s 63us/sample - loss: 0.3616 - accuracy: 0.8740 - val_loss: 0.3268 - val_accuracy: 0.8883\n",
            "Epoch 10/100\n",
            "381/381 [==============================] - 0s 58us/sample - loss: 0.3454 - accuracy: 0.8766 - val_loss: 0.3108 - val_accuracy: 0.8936\n",
            "Epoch 11/100\n",
            "381/381 [==============================] - 0s 64us/sample - loss: 0.3295 - accuracy: 0.8819 - val_loss: 0.2969 - val_accuracy: 0.9096\n",
            "Epoch 12/100\n",
            "381/381 [==============================] - 0s 65us/sample - loss: 0.3157 - accuracy: 0.8845 - val_loss: 0.2841 - val_accuracy: 0.9096\n",
            "Epoch 13/100\n",
            "381/381 [==============================] - 0s 69us/sample - loss: 0.3036 - accuracy: 0.8871 - val_loss: 0.2719 - val_accuracy: 0.9255\n",
            "Epoch 14/100\n",
            "381/381 [==============================] - 0s 66us/sample - loss: 0.2911 - accuracy: 0.8898 - val_loss: 0.2614 - val_accuracy: 0.9255\n",
            "Epoch 15/100\n",
            "381/381 [==============================] - 0s 68us/sample - loss: 0.2811 - accuracy: 0.8924 - val_loss: 0.2513 - val_accuracy: 0.9362\n",
            "Epoch 16/100\n",
            "381/381 [==============================] - 0s 77us/sample - loss: 0.2708 - accuracy: 0.8976 - val_loss: 0.2423 - val_accuracy: 0.9415\n",
            "Epoch 17/100\n",
            "381/381 [==============================] - 0s 67us/sample - loss: 0.2617 - accuracy: 0.8976 - val_loss: 0.2340 - val_accuracy: 0.9415\n",
            "Epoch 18/100\n",
            "381/381 [==============================] - 0s 64us/sample - loss: 0.2533 - accuracy: 0.9003 - val_loss: 0.2262 - val_accuracy: 0.9468\n",
            "Epoch 19/100\n",
            "381/381 [==============================] - 0s 73us/sample - loss: 0.2451 - accuracy: 0.9055 - val_loss: 0.2192 - val_accuracy: 0.9468\n",
            "Epoch 20/100\n",
            "381/381 [==============================] - 0s 88us/sample - loss: 0.2379 - accuracy: 0.9081 - val_loss: 0.2127 - val_accuracy: 0.9468\n",
            "Epoch 21/100\n",
            "381/381 [==============================] - 0s 71us/sample - loss: 0.2313 - accuracy: 0.9160 - val_loss: 0.2065 - val_accuracy: 0.9521\n",
            "Epoch 22/100\n",
            "381/381 [==============================] - 0s 69us/sample - loss: 0.2247 - accuracy: 0.9160 - val_loss: 0.2008 - val_accuracy: 0.9521\n",
            "Epoch 23/100\n",
            "381/381 [==============================] - 0s 65us/sample - loss: 0.2189 - accuracy: 0.9213 - val_loss: 0.1953 - val_accuracy: 0.9521\n",
            "Epoch 24/100\n",
            "381/381 [==============================] - 0s 71us/sample - loss: 0.2131 - accuracy: 0.9239 - val_loss: 0.1902 - val_accuracy: 0.9521\n",
            "Epoch 25/100\n",
            "381/381 [==============================] - 0s 64us/sample - loss: 0.2079 - accuracy: 0.9318 - val_loss: 0.1855 - val_accuracy: 0.9521\n",
            "Epoch 26/100\n",
            "381/381 [==============================] - 0s 64us/sample - loss: 0.2027 - accuracy: 0.9318 - val_loss: 0.1811 - val_accuracy: 0.9574\n",
            "Epoch 27/100\n",
            "381/381 [==============================] - 0s 71us/sample - loss: 0.1980 - accuracy: 0.9370 - val_loss: 0.1769 - val_accuracy: 0.9628\n",
            "Epoch 28/100\n",
            "381/381 [==============================] - 0s 65us/sample - loss: 0.1936 - accuracy: 0.9370 - val_loss: 0.1730 - val_accuracy: 0.9628\n",
            "Epoch 29/100\n",
            "381/381 [==============================] - 0s 70us/sample - loss: 0.1893 - accuracy: 0.9370 - val_loss: 0.1693 - val_accuracy: 0.9628\n",
            "Epoch 30/100\n",
            "381/381 [==============================] - 0s 80us/sample - loss: 0.1856 - accuracy: 0.9370 - val_loss: 0.1657 - val_accuracy: 0.9628\n",
            "Epoch 31/100\n",
            "381/381 [==============================] - 0s 73us/sample - loss: 0.1814 - accuracy: 0.9344 - val_loss: 0.1624 - val_accuracy: 0.9628\n",
            "Epoch 32/100\n",
            "381/381 [==============================] - 0s 70us/sample - loss: 0.1780 - accuracy: 0.9344 - val_loss: 0.1593 - val_accuracy: 0.9628\n",
            "Epoch 33/100\n",
            "381/381 [==============================] - 0s 67us/sample - loss: 0.1746 - accuracy: 0.9370 - val_loss: 0.1561 - val_accuracy: 0.9628\n",
            "Epoch 34/100\n",
            "381/381 [==============================] - 0s 66us/sample - loss: 0.1712 - accuracy: 0.9396 - val_loss: 0.1532 - val_accuracy: 0.9628\n",
            "Epoch 35/100\n",
            "381/381 [==============================] - 0s 94us/sample - loss: 0.1681 - accuracy: 0.9396 - val_loss: 0.1505 - val_accuracy: 0.9628\n",
            "Epoch 36/100\n",
            "381/381 [==============================] - 0s 67us/sample - loss: 0.1651 - accuracy: 0.9396 - val_loss: 0.1479 - val_accuracy: 0.9628\n",
            "Epoch 37/100\n",
            "381/381 [==============================] - 0s 63us/sample - loss: 0.1622 - accuracy: 0.9396 - val_loss: 0.1455 - val_accuracy: 0.9628\n",
            "Epoch 38/100\n",
            "381/381 [==============================] - 0s 68us/sample - loss: 0.1596 - accuracy: 0.9396 - val_loss: 0.1431 - val_accuracy: 0.9628\n",
            "Epoch 39/100\n",
            "381/381 [==============================] - 0s 81us/sample - loss: 0.1571 - accuracy: 0.9396 - val_loss: 0.1408 - val_accuracy: 0.9628\n",
            "Epoch 40/100\n",
            "381/381 [==============================] - 0s 67us/sample - loss: 0.1544 - accuracy: 0.9423 - val_loss: 0.1386 - val_accuracy: 0.9628\n",
            "Epoch 41/100\n",
            "381/381 [==============================] - 0s 69us/sample - loss: 0.1521 - accuracy: 0.9449 - val_loss: 0.1365 - val_accuracy: 0.9628\n",
            "Epoch 42/100\n",
            "381/381 [==============================] - 0s 67us/sample - loss: 0.1499 - accuracy: 0.9501 - val_loss: 0.1345 - val_accuracy: 0.9628\n",
            "Epoch 43/100\n",
            "381/381 [==============================] - 0s 70us/sample - loss: 0.1477 - accuracy: 0.9501 - val_loss: 0.1324 - val_accuracy: 0.9628\n",
            "Epoch 44/100\n",
            "381/381 [==============================] - 0s 78us/sample - loss: 0.1456 - accuracy: 0.9580 - val_loss: 0.1306 - val_accuracy: 0.9628\n",
            "Epoch 45/100\n",
            "381/381 [==============================] - 0s 75us/sample - loss: 0.1436 - accuracy: 0.9633 - val_loss: 0.1288 - val_accuracy: 0.9628\n",
            "Epoch 46/100\n",
            "381/381 [==============================] - 0s 68us/sample - loss: 0.1417 - accuracy: 0.9633 - val_loss: 0.1271 - val_accuracy: 0.9628\n",
            "Epoch 47/100\n",
            "381/381 [==============================] - 0s 78us/sample - loss: 0.1398 - accuracy: 0.9659 - val_loss: 0.1253 - val_accuracy: 0.9628\n",
            "Epoch 48/100\n",
            "381/381 [==============================] - 0s 68us/sample - loss: 0.1380 - accuracy: 0.9659 - val_loss: 0.1238 - val_accuracy: 0.9628\n",
            "Epoch 49/100\n",
            "381/381 [==============================] - 0s 66us/sample - loss: 0.1363 - accuracy: 0.9659 - val_loss: 0.1222 - val_accuracy: 0.9628\n",
            "Epoch 50/100\n",
            "381/381 [==============================] - 0s 67us/sample - loss: 0.1347 - accuracy: 0.9685 - val_loss: 0.1207 - val_accuracy: 0.9628\n",
            "Epoch 51/100\n",
            "381/381 [==============================] - 0s 71us/sample - loss: 0.1331 - accuracy: 0.9685 - val_loss: 0.1193 - val_accuracy: 0.9681\n",
            "Epoch 52/100\n",
            "381/381 [==============================] - 0s 68us/sample - loss: 0.1315 - accuracy: 0.9685 - val_loss: 0.1179 - val_accuracy: 0.9681\n",
            "Epoch 53/100\n",
            "381/381 [==============================] - 0s 69us/sample - loss: 0.1300 - accuracy: 0.9685 - val_loss: 0.1166 - val_accuracy: 0.9681\n",
            "Epoch 54/100\n",
            "381/381 [==============================] - 0s 70us/sample - loss: 0.1287 - accuracy: 0.9685 - val_loss: 0.1152 - val_accuracy: 0.9734\n",
            "Epoch 55/100\n",
            "381/381 [==============================] - 0s 84us/sample - loss: 0.1272 - accuracy: 0.9685 - val_loss: 0.1140 - val_accuracy: 0.9734\n",
            "Epoch 56/100\n",
            "381/381 [==============================] - 0s 64us/sample - loss: 0.1259 - accuracy: 0.9685 - val_loss: 0.1129 - val_accuracy: 0.9734\n",
            "Epoch 57/100\n",
            "381/381 [==============================] - 0s 76us/sample - loss: 0.1246 - accuracy: 0.9685 - val_loss: 0.1117 - val_accuracy: 0.9734\n",
            "Epoch 58/100\n",
            "381/381 [==============================] - 0s 66us/sample - loss: 0.1234 - accuracy: 0.9711 - val_loss: 0.1106 - val_accuracy: 0.9734\n",
            "Epoch 59/100\n",
            "381/381 [==============================] - 0s 67us/sample - loss: 0.1222 - accuracy: 0.9711 - val_loss: 0.1095 - val_accuracy: 0.9734\n",
            "Epoch 60/100\n",
            "381/381 [==============================] - 0s 65us/sample - loss: 0.1210 - accuracy: 0.9711 - val_loss: 0.1085 - val_accuracy: 0.9734\n",
            "Epoch 61/100\n",
            "381/381 [==============================] - 0s 70us/sample - loss: 0.1198 - accuracy: 0.9711 - val_loss: 0.1074 - val_accuracy: 0.9787\n",
            "Epoch 62/100\n",
            "381/381 [==============================] - 0s 74us/sample - loss: 0.1187 - accuracy: 0.9711 - val_loss: 0.1064 - val_accuracy: 0.9787\n",
            "Epoch 63/100\n",
            "381/381 [==============================] - 0s 83us/sample - loss: 0.1177 - accuracy: 0.9711 - val_loss: 0.1055 - val_accuracy: 0.9787\n",
            "Epoch 64/100\n",
            "381/381 [==============================] - 0s 81us/sample - loss: 0.1166 - accuracy: 0.9711 - val_loss: 0.1045 - val_accuracy: 0.9787\n",
            "Epoch 65/100\n",
            "381/381 [==============================] - 0s 71us/sample - loss: 0.1156 - accuracy: 0.9711 - val_loss: 0.1036 - val_accuracy: 0.9787\n",
            "Epoch 66/100\n",
            "381/381 [==============================] - 0s 69us/sample - loss: 0.1146 - accuracy: 0.9711 - val_loss: 0.1027 - val_accuracy: 0.9787\n",
            "Epoch 67/100\n",
            "381/381 [==============================] - 0s 64us/sample - loss: 0.1137 - accuracy: 0.9738 - val_loss: 0.1019 - val_accuracy: 0.9787\n",
            "Epoch 68/100\n",
            "381/381 [==============================] - 0s 80us/sample - loss: 0.1127 - accuracy: 0.9738 - val_loss: 0.1011 - val_accuracy: 0.9787\n",
            "Epoch 69/100\n",
            "381/381 [==============================] - 0s 67us/sample - loss: 0.1118 - accuracy: 0.9738 - val_loss: 0.1002 - val_accuracy: 0.9787\n",
            "Epoch 70/100\n",
            "381/381 [==============================] - 0s 87us/sample - loss: 0.1109 - accuracy: 0.9738 - val_loss: 0.0994 - val_accuracy: 0.9787\n",
            "Epoch 71/100\n",
            "381/381 [==============================] - 0s 78us/sample - loss: 0.1100 - accuracy: 0.9764 - val_loss: 0.0987 - val_accuracy: 0.9787\n",
            "Epoch 72/100\n",
            "381/381 [==============================] - 0s 72us/sample - loss: 0.1092 - accuracy: 0.9790 - val_loss: 0.0979 - val_accuracy: 0.9787\n",
            "Epoch 73/100\n",
            "381/381 [==============================] - 0s 62us/sample - loss: 0.1084 - accuracy: 0.9790 - val_loss: 0.0972 - val_accuracy: 0.9787\n",
            "Epoch 74/100\n",
            "381/381 [==============================] - 0s 62us/sample - loss: 0.1076 - accuracy: 0.9790 - val_loss: 0.0965 - val_accuracy: 0.9787\n",
            "Epoch 75/100\n",
            "381/381 [==============================] - 0s 65us/sample - loss: 0.1068 - accuracy: 0.9790 - val_loss: 0.0958 - val_accuracy: 0.9787\n",
            "Epoch 76/100\n",
            "381/381 [==============================] - 0s 72us/sample - loss: 0.1060 - accuracy: 0.9790 - val_loss: 0.0952 - val_accuracy: 0.9787\n",
            "Epoch 77/100\n",
            "381/381 [==============================] - 0s 70us/sample - loss: 0.1053 - accuracy: 0.9790 - val_loss: 0.0945 - val_accuracy: 0.9787\n",
            "Epoch 78/100\n",
            "381/381 [==============================] - 0s 74us/sample - loss: 0.1046 - accuracy: 0.9790 - val_loss: 0.0939 - val_accuracy: 0.9787\n",
            "Epoch 79/100\n",
            "381/381 [==============================] - 0s 71us/sample - loss: 0.1038 - accuracy: 0.9790 - val_loss: 0.0933 - val_accuracy: 0.9840\n",
            "Epoch 80/100\n",
            "381/381 [==============================] - 0s 76us/sample - loss: 0.1032 - accuracy: 0.9790 - val_loss: 0.0926 - val_accuracy: 0.9840\n",
            "Epoch 81/100\n",
            "381/381 [==============================] - 0s 75us/sample - loss: 0.1025 - accuracy: 0.9790 - val_loss: 0.0920 - val_accuracy: 0.9840\n",
            "Epoch 82/100\n",
            "381/381 [==============================] - 0s 85us/sample - loss: 0.1018 - accuracy: 0.9790 - val_loss: 0.0914 - val_accuracy: 0.9840\n",
            "Epoch 83/100\n",
            "381/381 [==============================] - 0s 78us/sample - loss: 0.1012 - accuracy: 0.9790 - val_loss: 0.0908 - val_accuracy: 0.9840\n",
            "Epoch 84/100\n",
            "381/381 [==============================] - 0s 73us/sample - loss: 0.1005 - accuracy: 0.9790 - val_loss: 0.0903 - val_accuracy: 0.9840\n",
            "Epoch 85/100\n",
            "381/381 [==============================] - 0s 83us/sample - loss: 0.0999 - accuracy: 0.9790 - val_loss: 0.0898 - val_accuracy: 0.9840\n",
            "Epoch 86/100\n",
            "381/381 [==============================] - 0s 73us/sample - loss: 0.0993 - accuracy: 0.9790 - val_loss: 0.0893 - val_accuracy: 0.9840\n",
            "Epoch 87/100\n",
            "381/381 [==============================] - 0s 74us/sample - loss: 0.0987 - accuracy: 0.9790 - val_loss: 0.0887 - val_accuracy: 0.9840\n",
            "Epoch 88/100\n",
            "381/381 [==============================] - 0s 77us/sample - loss: 0.0981 - accuracy: 0.9790 - val_loss: 0.0883 - val_accuracy: 0.9840\n",
            "Epoch 89/100\n",
            "381/381 [==============================] - 0s 80us/sample - loss: 0.0975 - accuracy: 0.9790 - val_loss: 0.0878 - val_accuracy: 0.9840\n",
            "Epoch 90/100\n",
            "381/381 [==============================] - 0s 82us/sample - loss: 0.0970 - accuracy: 0.9790 - val_loss: 0.0873 - val_accuracy: 0.9840\n",
            "Epoch 91/100\n",
            "381/381 [==============================] - 0s 69us/sample - loss: 0.0964 - accuracy: 0.9790 - val_loss: 0.0869 - val_accuracy: 0.9840\n",
            "Epoch 92/100\n",
            "381/381 [==============================] - 0s 73us/sample - loss: 0.0959 - accuracy: 0.9790 - val_loss: 0.0864 - val_accuracy: 0.9840\n",
            "Epoch 93/100\n",
            "381/381 [==============================] - 0s 77us/sample - loss: 0.0954 - accuracy: 0.9790 - val_loss: 0.0859 - val_accuracy: 0.9840\n",
            "Epoch 94/100\n",
            "381/381 [==============================] - 0s 70us/sample - loss: 0.0949 - accuracy: 0.9790 - val_loss: 0.0855 - val_accuracy: 0.9840\n",
            "Epoch 95/100\n",
            "381/381 [==============================] - 0s 86us/sample - loss: 0.0943 - accuracy: 0.9790 - val_loss: 0.0851 - val_accuracy: 0.9840\n",
            "Epoch 96/100\n",
            "381/381 [==============================] - 0s 72us/sample - loss: 0.0938 - accuracy: 0.9790 - val_loss: 0.0847 - val_accuracy: 0.9787\n",
            "Epoch 97/100\n",
            "381/381 [==============================] - 0s 72us/sample - loss: 0.0934 - accuracy: 0.9790 - val_loss: 0.0843 - val_accuracy: 0.9787\n",
            "Epoch 98/100\n",
            "381/381 [==============================] - 0s 77us/sample - loss: 0.0929 - accuracy: 0.9790 - val_loss: 0.0839 - val_accuracy: 0.9787\n",
            "Epoch 99/100\n",
            "381/381 [==============================] - 0s 73us/sample - loss: 0.0925 - accuracy: 0.9816 - val_loss: 0.0835 - val_accuracy: 0.9787\n",
            "Epoch 100/100\n",
            "381/381 [==============================] - 0s 71us/sample - loss: 0.0920 - accuracy: 0.9816 - val_loss: 0.0831 - val_accuracy: 0.9787\n",
            "381/381 [==============================] - 0s 75us/sample - loss: 0.0917 - accuracy: 0.9816\n",
            "Train score: [0.09166131002383596, 0.9816273]\n",
            "188/188 [==============================] - 0s 81us/sample - loss: 0.0831 - accuracy: 0.9787\n",
            "Test score: [0.08311955250324086, 0.9787234]\n"
          ],
          "name": "stdout"
        }
      ]
    },
    {
      "cell_type": "code",
      "metadata": {
        "id": "-zpqV4YLhXZn",
        "outputId": "24e1e0f5-ae0a-42d8-e91d-cdc0eed58b7e",
        "colab": {
          "base_uri": "https://localhost:8080/",
          "height": 283
        }
      },
      "source": [
        "#Plot what returned by model.fit()\n",
        "import matplotlib.pyplot as plt\n",
        "plt.plot(r.history['loss'],label='loss')\n",
        "plt.plot(r.history['val_loss'],label='val_loss')\n",
        "plt.legend()\n",
        "\n",
        "\n",
        "\n"
      ],
      "execution_count": 26,
      "outputs": [
        {
          "output_type": "execute_result",
          "data": {
            "text/plain": [
              "<matplotlib.legend.Legend at 0x7f3a6ecf5630>"
            ]
          },
          "metadata": {
            "tags": []
          },
          "execution_count": 26
        },
        {
          "output_type": "display_data",
          "data": {
            "image/png": "[encoded data removed]",
            "text/plain": [
              "<Figure size 432x288 with 1 Axes>"
            ]
          },
          "metadata": {
            "tags": [],
            "needs_background": "light"
          }
        }
      ]
    },
    {
      "cell_type": "code",
      "metadata": {
        "id": "paN9_tUmkfno",
        "outputId": "a659f460-5d08-40da-b364-1a0f268e5d6f",
        "colab": {
          "base_uri": "https://localhost:8080/",
          "height": 283
        }
      },
      "source": [
        "#Plot the accuracy\n",
        "plt.plot(r.history['accuracy'],label='acc')\n",
        "plt.plot(r.history['val_accuracy'],label='val_acc')"
      ],
      "execution_count": 29,
      "outputs": [
        {
          "output_type": "execute_result",
          "data": {
            "text/plain": [
              "[<matplotlib.lines.Line2D at 0x7f3a748177b8>]"
            ]
          },
          "metadata": {
            "tags": []
          },
          "execution_count": 29
        },
        {
          "output_type": "display_data",
          "data": {
            "image/png": "[encoded data removed]",
            "text/plain": [
              "<Figure size 432x288 with 1 Axes>"
            ]
          },
          "metadata": {
            "tags": [],
            "needs_background": "light"
          }
        }
      ]
    },
    {
      "cell_type": "code",
      "metadata": {
        "id": "wNK_gvKSkwU1"
      },
      "source": [
        ""
      ],
      "execution_count": null,
      "outputs": []
    }
  ]
}